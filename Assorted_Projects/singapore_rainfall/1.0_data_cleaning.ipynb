{
 "cells": [
  {
   "cell_type": "markdown",
   "metadata": {},
   "source": [
    "## 01 SINGAPORE'S WEATHER DATA: 1983 - 2019 (SEPT)"
   ]
  },
  {
   "cell_type": "markdown",
   "metadata": {},
   "source": [
    "The raw folder have\n",
    "- 438 CSV files containing daily weather data for Singapore from 1983 - 2019 (June)\n",
    "\n",
    "- a \"monthly_data\" sub-folder containing monthly average data for rainfall, maximum and mean temperatures."
   ]
  },
  {
   "cell_type": "code",
   "execution_count": 18,
   "metadata": {},
   "outputs": [],
   "source": [
    "import glob\n",
    "import pandas as pd"
   ]
  },
  {
   "cell_type": "markdown",
   "metadata": {},
   "source": [
    "# 1. DAILY WEATHER DATA "
   ]
  },
  {
   "cell_type": "code",
   "execution_count": 19,
   "metadata": {},
   "outputs": [],
   "source": [
    "# Combining the separate CSV files into one\n",
    "raw = pd.concat(\n",
    "    [pd.read_csv(f) for f in glob.glob(\"raw/*.csv\")], ignore_index=True\n",
    ")"
   ]
  },
  {
   "cell_type": "code",
   "execution_count": 20,
   "metadata": {},
   "outputs": [],
   "source": [
    "# Adding a datetime col in the year-month-day format\n",
    "raw[\"Date\"] = pd.to_datetime(\n",
    "    raw[\"Year\"].astype(str)\n",
    "    + \"-\"\n",
    "    + raw[\"Month\"].astype(str)\n",
    "    + \"-\"\n",
    "    + raw[\"Day\"].astype(str)\n",
    ")"
   ]
  },
  {
   "cell_type": "code",
   "execution_count": 21,
   "metadata": {},
   "outputs": [],
   "source": [
    "raw[\"Month_Name\"] = raw[\"Date\"].dt.month_name()\n",
    "raw[\"Quarter\"] = raw[\"Date\"].dt.quarter"
   ]
  },
  {
   "cell_type": "code",
   "execution_count": 22,
   "metadata": {},
   "outputs": [],
   "source": [
    "# Converting values in the Max/Mean Wind into numeric data type\n",
    "raw[\"Max Wind Speed (km/h)\"] = pd.to_numeric(\n",
    "    raw[\"Max Wind Speed (km/h)\"], errors=\"coerce\"\n",
    ")\n",
    "raw[\"Mean Wind Speed (km/h)\"] = pd.to_numeric(\n",
    "    raw[\"Mean Wind Speed (km/h)\"], errors=\"coerce\"\n",
    ")"
   ]
  },
  {
   "cell_type": "code",
   "execution_count": 23,
   "metadata": {},
   "outputs": [
    {
     "name": "stdout",
     "output_type": "stream",
     "text": [
      "<class 'pandas.core.frame.DataFrame'>\n",
      "RangeIndex: 13483 entries, 0 to 13482\n",
      "Data columns (total 16 columns):\n",
      " #   Column                         Non-Null Count  Dtype         \n",
      "---  ------                         --------------  -----         \n",
      " 0   Station                        13483 non-null  object        \n",
      " 1   Year                           13483 non-null  int64         \n",
      " 2   Month                          13483 non-null  int64         \n",
      " 3   Day                            13483 non-null  int64         \n",
      " 4   Daily Rainfall Total (mm)      13483 non-null  float64       \n",
      " 5   Highest 30 Min Rainfall (mm)   13483 non-null  object        \n",
      " 6   Highest 60 Min Rainfall (mm)   13483 non-null  object        \n",
      " 7   Highest 120 Min Rainfall (mm)  13483 non-null  object        \n",
      " 8   Mean Temperature (°C)          13483 non-null  float64       \n",
      " 9   Maximum Temperature (°C)       13483 non-null  float64       \n",
      " 10  Minimum Temperature (°C)       13483 non-null  float64       \n",
      " 11  Mean Wind Speed (km/h)         13473 non-null  float64       \n",
      " 12  Max Wind Speed (km/h)          13472 non-null  float64       \n",
      " 13  Date                           13483 non-null  datetime64[ns]\n",
      " 14  Month_Name                     13483 non-null  object        \n",
      " 15  Quarter                        13483 non-null  int32         \n",
      "dtypes: datetime64[ns](1), float64(6), int32(1), int64(3), object(5)\n",
      "memory usage: 1.6+ MB\n"
     ]
    }
   ],
   "source": [
    "raw.info()"
   ]
  },
  {
   "cell_type": "markdown",
   "metadata": {},
   "source": [
    "#### Fill the missing entries in Mean Wind Speed and Max Wind Speed columns with mean values of both cols"
   ]
  },
  {
   "cell_type": "code",
   "execution_count": 24,
   "metadata": {},
   "outputs": [],
   "source": [
    "raw[\"Max Wind Speed (km/h)\"] = raw[\"Max Wind Speed (km/h)\"].fillna(\n",
    "    raw[\"Max Wind Speed (km/h)\"].mean()\n",
    ")\n",
    "raw[\"Mean Wind Speed (km/h)\"] = raw[\"Mean Wind Speed (km/h)\"].fillna(\n",
    "    raw[\"Mean Wind Speed (km/h)\"].mean()\n",
    ")"
   ]
  },
  {
   "cell_type": "code",
   "execution_count": 25,
   "metadata": {},
   "outputs": [],
   "source": [
    "# Dropping cols that I won't need for visualisation or modelling\n",
    "raw = raw.drop(\n",
    "    columns=[\n",
    "        \"Station\",\n",
    "        \"Highest 30 Min Rainfall (mm)\",\n",
    "        \"Highest 60 Min Rainfall (mm)\",\n",
    "        \"Highest 120 Min Rainfall (mm)\",\n",
    "    ]\n",
    ")"
   ]
  },
  {
   "cell_type": "code",
   "execution_count": 26,
   "metadata": {},
   "outputs": [],
   "source": [
    "# Slight rearrangement of cols for clarity\n",
    "cols = [\n",
    "    \"Date\",\n",
    "    \"Year\",\n",
    "    \"Month\",\n",
    "    \"Month_Name\",\n",
    "    \"Quarter\",\n",
    "    \"Day\",\n",
    "    \"Daily Rainfall Total (mm)\",\n",
    "    \"Mean Temperature (°C)\",\n",
    "    \"Maximum Temperature (°C)\",\n",
    "    \"Minimum Temperature (°C)\",\n",
    "    \"Mean Wind Speed (km/h)\",\n",
    "    \"Max Wind Speed (km/h)\",\n",
    "]"
   ]
  },
  {
   "cell_type": "code",
   "execution_count": 27,
   "metadata": {},
   "outputs": [],
   "source": [
    "weather = raw[cols].copy()"
   ]
  },
  {
   "cell_type": "code",
   "execution_count": 28,
   "metadata": {},
   "outputs": [],
   "source": [
    "weather = weather.sort_values('Date', ascending=False)"
   ]
  },
  {
   "cell_type": "code",
   "execution_count": 29,
   "metadata": {},
   "outputs": [
    {
     "name": "stdout",
     "output_type": "stream",
     "text": [
      "<class 'pandas.core.frame.DataFrame'>\n",
      "Index: 13483 entries, 12323 to 4385\n",
      "Data columns (total 12 columns):\n",
      " #   Column                     Non-Null Count  Dtype         \n",
      "---  ------                     --------------  -----         \n",
      " 0   Date                       13483 non-null  datetime64[ns]\n",
      " 1   Year                       13483 non-null  int64         \n",
      " 2   Month                      13483 non-null  int64         \n",
      " 3   Month_Name                 13483 non-null  object        \n",
      " 4   Quarter                    13483 non-null  int32         \n",
      " 5   Day                        13483 non-null  int64         \n",
      " 6   Daily Rainfall Total (mm)  13483 non-null  float64       \n",
      " 7   Mean Temperature (°C)      13483 non-null  float64       \n",
      " 8   Maximum Temperature (°C)   13483 non-null  float64       \n",
      " 9   Minimum Temperature (°C)   13483 non-null  float64       \n",
      " 10  Mean Wind Speed (km/h)     13483 non-null  float64       \n",
      " 11  Max Wind Speed (km/h)      13483 non-null  float64       \n",
      "dtypes: datetime64[ns](1), float64(6), int32(1), int64(3), object(1)\n",
      "memory usage: 1.3+ MB\n"
     ]
    }
   ],
   "source": [
    "weather.info()\n",
    "# no null values"
   ]
  },
  {
   "cell_type": "code",
   "execution_count": 30,
   "metadata": {},
   "outputs": [
    {
     "data": {
      "text/plain": [
       "Index(['Date', 'Year', 'Month', 'Month_Name', 'Quarter', 'Day',\n",
       "       'Daily Rainfall Total (mm)', 'Mean Temperature (°C)',\n",
       "       'Maximum Temperature (°C)', 'Minimum Temperature (°C)',\n",
       "       'Mean Wind Speed (km/h)', 'Max Wind Speed (km/h)'],\n",
       "      dtype='object')"
      ]
     },
     "execution_count": 30,
     "metadata": {},
     "output_type": "execute_result"
    }
   ],
   "source": [
    "weather.columns"
   ]
  },
  {
   "cell_type": "code",
   "execution_count": 31,
   "metadata": {},
   "outputs": [
    {
     "data": {
      "text/html": [
       "<div>\n",
       "<style scoped>\n",
       "    .dataframe tbody tr th:only-of-type {\n",
       "        vertical-align: middle;\n",
       "    }\n",
       "\n",
       "    .dataframe tbody tr th {\n",
       "        vertical-align: top;\n",
       "    }\n",
       "\n",
       "    .dataframe thead th {\n",
       "        text-align: right;\n",
       "    }\n",
       "</style>\n",
       "<table border=\"1\" class=\"dataframe\">\n",
       "  <thead>\n",
       "    <tr style=\"text-align: right;\">\n",
       "      <th></th>\n",
       "      <th>Date</th>\n",
       "      <th>Year</th>\n",
       "      <th>Month</th>\n",
       "      <th>Quarter</th>\n",
       "      <th>Day</th>\n",
       "      <th>Daily Rainfall Total (mm)</th>\n",
       "      <th>Mean Temperature (°C)</th>\n",
       "      <th>Maximum Temperature (°C)</th>\n",
       "      <th>Minimum Temperature (°C)</th>\n",
       "      <th>Mean Wind Speed (km/h)</th>\n",
       "      <th>Max Wind Speed (km/h)</th>\n",
       "    </tr>\n",
       "  </thead>\n",
       "  <tbody>\n",
       "    <tr>\n",
       "      <th>count</th>\n",
       "      <td>13483</td>\n",
       "      <td>13483.000000</td>\n",
       "      <td>13483.000000</td>\n",
       "      <td>13483.000000</td>\n",
       "      <td>13483.000000</td>\n",
       "      <td>13483.000000</td>\n",
       "      <td>13483.000000</td>\n",
       "      <td>13483.000000</td>\n",
       "      <td>13483.000000</td>\n",
       "      <td>13483.000000</td>\n",
       "      <td>13483.000000</td>\n",
       "    </tr>\n",
       "    <tr>\n",
       "      <th>mean</th>\n",
       "      <td>2001-06-16 00:00:00</td>\n",
       "      <td>2000.957947</td>\n",
       "      <td>6.510421</td>\n",
       "      <td>2.505155</td>\n",
       "      <td>15.728770</td>\n",
       "      <td>5.812275</td>\n",
       "      <td>27.669005</td>\n",
       "      <td>31.522769</td>\n",
       "      <td>24.904747</td>\n",
       "      <td>7.445691</td>\n",
       "      <td>34.048553</td>\n",
       "    </tr>\n",
       "    <tr>\n",
       "      <th>min</th>\n",
       "      <td>1983-01-01 00:00:00</td>\n",
       "      <td>1983.000000</td>\n",
       "      <td>1.000000</td>\n",
       "      <td>1.000000</td>\n",
       "      <td>1.000000</td>\n",
       "      <td>0.000000</td>\n",
       "      <td>22.800000</td>\n",
       "      <td>23.600000</td>\n",
       "      <td>20.200000</td>\n",
       "      <td>0.200000</td>\n",
       "      <td>4.700000</td>\n",
       "    </tr>\n",
       "    <tr>\n",
       "      <th>25%</th>\n",
       "      <td>1992-03-24 12:00:00</td>\n",
       "      <td>1992.000000</td>\n",
       "      <td>4.000000</td>\n",
       "      <td>2.000000</td>\n",
       "      <td>8.000000</td>\n",
       "      <td>0.000000</td>\n",
       "      <td>26.900000</td>\n",
       "      <td>30.800000</td>\n",
       "      <td>24.000000</td>\n",
       "      <td>4.800000</td>\n",
       "      <td>28.800000</td>\n",
       "    </tr>\n",
       "    <tr>\n",
       "      <th>50%</th>\n",
       "      <td>2001-06-16 00:00:00</td>\n",
       "      <td>2001.000000</td>\n",
       "      <td>7.000000</td>\n",
       "      <td>3.000000</td>\n",
       "      <td>16.000000</td>\n",
       "      <td>0.000000</td>\n",
       "      <td>27.700000</td>\n",
       "      <td>31.800000</td>\n",
       "      <td>24.900000</td>\n",
       "      <td>6.800000</td>\n",
       "      <td>33.100000</td>\n",
       "    </tr>\n",
       "    <tr>\n",
       "      <th>75%</th>\n",
       "      <td>2010-09-07 12:00:00</td>\n",
       "      <td>2010.000000</td>\n",
       "      <td>10.000000</td>\n",
       "      <td>4.000000</td>\n",
       "      <td>23.000000</td>\n",
       "      <td>4.400000</td>\n",
       "      <td>28.600000</td>\n",
       "      <td>32.500000</td>\n",
       "      <td>25.800000</td>\n",
       "      <td>9.700000</td>\n",
       "      <td>38.200000</td>\n",
       "    </tr>\n",
       "    <tr>\n",
       "      <th>max</th>\n",
       "      <td>2019-11-30 00:00:00</td>\n",
       "      <td>2019.000000</td>\n",
       "      <td>12.000000</td>\n",
       "      <td>4.000000</td>\n",
       "      <td>31.000000</td>\n",
       "      <td>216.200000</td>\n",
       "      <td>30.900000</td>\n",
       "      <td>36.000000</td>\n",
       "      <td>29.100000</td>\n",
       "      <td>22.200000</td>\n",
       "      <td>90.700000</td>\n",
       "    </tr>\n",
       "    <tr>\n",
       "      <th>std</th>\n",
       "      <td>NaN</td>\n",
       "      <td>10.654557</td>\n",
       "      <td>3.442745</td>\n",
       "      <td>1.116105</td>\n",
       "      <td>8.799971</td>\n",
       "      <td>14.418090</td>\n",
       "      <td>1.175334</td>\n",
       "      <td>1.571184</td>\n",
       "      <td>1.268123</td>\n",
       "      <td>3.474844</td>\n",
       "      <td>8.031279</td>\n",
       "    </tr>\n",
       "  </tbody>\n",
       "</table>\n",
       "</div>"
      ],
      "text/plain": [
       "                      Date          Year         Month       Quarter  \\\n",
       "count                13483  13483.000000  13483.000000  13483.000000   \n",
       "mean   2001-06-16 00:00:00   2000.957947      6.510421      2.505155   \n",
       "min    1983-01-01 00:00:00   1983.000000      1.000000      1.000000   \n",
       "25%    1992-03-24 12:00:00   1992.000000      4.000000      2.000000   \n",
       "50%    2001-06-16 00:00:00   2001.000000      7.000000      3.000000   \n",
       "75%    2010-09-07 12:00:00   2010.000000     10.000000      4.000000   \n",
       "max    2019-11-30 00:00:00   2019.000000     12.000000      4.000000   \n",
       "std                    NaN     10.654557      3.442745      1.116105   \n",
       "\n",
       "                Day  Daily Rainfall Total (mm)  Mean Temperature (°C)  \\\n",
       "count  13483.000000               13483.000000           13483.000000   \n",
       "mean      15.728770                   5.812275              27.669005   \n",
       "min        1.000000                   0.000000              22.800000   \n",
       "25%        8.000000                   0.000000              26.900000   \n",
       "50%       16.000000                   0.000000              27.700000   \n",
       "75%       23.000000                   4.400000              28.600000   \n",
       "max       31.000000                 216.200000              30.900000   \n",
       "std        8.799971                  14.418090               1.175334   \n",
       "\n",
       "       Maximum Temperature (°C)  Minimum Temperature (°C)  \\\n",
       "count              13483.000000              13483.000000   \n",
       "mean                  31.522769                 24.904747   \n",
       "min                   23.600000                 20.200000   \n",
       "25%                   30.800000                 24.000000   \n",
       "50%                   31.800000                 24.900000   \n",
       "75%                   32.500000                 25.800000   \n",
       "max                   36.000000                 29.100000   \n",
       "std                    1.571184                  1.268123   \n",
       "\n",
       "       Mean Wind Speed (km/h)  Max Wind Speed (km/h)  \n",
       "count            13483.000000           13483.000000  \n",
       "mean                 7.445691              34.048553  \n",
       "min                  0.200000               4.700000  \n",
       "25%                  4.800000              28.800000  \n",
       "50%                  6.800000              33.100000  \n",
       "75%                  9.700000              38.200000  \n",
       "max                 22.200000              90.700000  \n",
       "std                  3.474844               8.031279  "
      ]
     },
     "execution_count": 31,
     "metadata": {},
     "output_type": "execute_result"
    }
   ],
   "source": [
    "weather.describe()\n",
    "# The Daily Rainfall cols have some obvious outliers. But let's deal with that later, as and when required"
   ]
  },
  {
   "cell_type": "code",
   "execution_count": 32,
   "metadata": {},
   "outputs": [
    {
     "data": {
      "text/html": [
       "<div>\n",
       "<style scoped>\n",
       "    .dataframe tbody tr th:only-of-type {\n",
       "        vertical-align: middle;\n",
       "    }\n",
       "\n",
       "    .dataframe tbody tr th {\n",
       "        vertical-align: top;\n",
       "    }\n",
       "\n",
       "    .dataframe thead th {\n",
       "        text-align: right;\n",
       "    }\n",
       "</style>\n",
       "<table border=\"1\" class=\"dataframe\">\n",
       "  <thead>\n",
       "    <tr style=\"text-align: right;\">\n",
       "      <th></th>\n",
       "      <th>Date</th>\n",
       "      <th>Year</th>\n",
       "      <th>Month</th>\n",
       "      <th>Month_Name</th>\n",
       "      <th>Quarter</th>\n",
       "      <th>Day</th>\n",
       "      <th>Daily Rainfall Total (mm)</th>\n",
       "      <th>Mean Temperature (°C)</th>\n",
       "      <th>Maximum Temperature (°C)</th>\n",
       "      <th>Minimum Temperature (°C)</th>\n",
       "      <th>Mean Wind Speed (km/h)</th>\n",
       "      <th>Max Wind Speed (km/h)</th>\n",
       "    </tr>\n",
       "  </thead>\n",
       "  <tbody>\n",
       "    <tr>\n",
       "      <th>12323</th>\n",
       "      <td>2019-11-30</td>\n",
       "      <td>2019</td>\n",
       "      <td>11</td>\n",
       "      <td>November</td>\n",
       "      <td>4</td>\n",
       "      <td>30</td>\n",
       "      <td>9.4</td>\n",
       "      <td>27.6</td>\n",
       "      <td>32.1</td>\n",
       "      <td>25.0</td>\n",
       "      <td>6.8</td>\n",
       "      <td>28.1</td>\n",
       "    </tr>\n",
       "    <tr>\n",
       "      <th>12322</th>\n",
       "      <td>2019-11-29</td>\n",
       "      <td>2019</td>\n",
       "      <td>11</td>\n",
       "      <td>November</td>\n",
       "      <td>4</td>\n",
       "      <td>29</td>\n",
       "      <td>73.4</td>\n",
       "      <td>26.5</td>\n",
       "      <td>32.0</td>\n",
       "      <td>24.0</td>\n",
       "      <td>6.1</td>\n",
       "      <td>31.3</td>\n",
       "    </tr>\n",
       "    <tr>\n",
       "      <th>12321</th>\n",
       "      <td>2019-11-28</td>\n",
       "      <td>2019</td>\n",
       "      <td>11</td>\n",
       "      <td>November</td>\n",
       "      <td>4</td>\n",
       "      <td>28</td>\n",
       "      <td>9.0</td>\n",
       "      <td>27.8</td>\n",
       "      <td>31.4</td>\n",
       "      <td>25.3</td>\n",
       "      <td>7.6</td>\n",
       "      <td>27.4</td>\n",
       "    </tr>\n",
       "    <tr>\n",
       "      <th>12320</th>\n",
       "      <td>2019-11-27</td>\n",
       "      <td>2019</td>\n",
       "      <td>11</td>\n",
       "      <td>November</td>\n",
       "      <td>4</td>\n",
       "      <td>27</td>\n",
       "      <td>1.8</td>\n",
       "      <td>27.5</td>\n",
       "      <td>31.5</td>\n",
       "      <td>25.4</td>\n",
       "      <td>7.2</td>\n",
       "      <td>31.3</td>\n",
       "    </tr>\n",
       "    <tr>\n",
       "      <th>12319</th>\n",
       "      <td>2019-11-26</td>\n",
       "      <td>2019</td>\n",
       "      <td>11</td>\n",
       "      <td>November</td>\n",
       "      <td>4</td>\n",
       "      <td>26</td>\n",
       "      <td>0.0</td>\n",
       "      <td>28.5</td>\n",
       "      <td>33.0</td>\n",
       "      <td>25.7</td>\n",
       "      <td>10.4</td>\n",
       "      <td>34.9</td>\n",
       "    </tr>\n",
       "  </tbody>\n",
       "</table>\n",
       "</div>"
      ],
      "text/plain": [
       "            Date  Year  Month Month_Name  Quarter  Day  \\\n",
       "12323 2019-11-30  2019     11   November        4   30   \n",
       "12322 2019-11-29  2019     11   November        4   29   \n",
       "12321 2019-11-28  2019     11   November        4   28   \n",
       "12320 2019-11-27  2019     11   November        4   27   \n",
       "12319 2019-11-26  2019     11   November        4   26   \n",
       "\n",
       "       Daily Rainfall Total (mm)  Mean Temperature (°C)  \\\n",
       "12323                        9.4                   27.6   \n",
       "12322                       73.4                   26.5   \n",
       "12321                        9.0                   27.8   \n",
       "12320                        1.8                   27.5   \n",
       "12319                        0.0                   28.5   \n",
       "\n",
       "       Maximum Temperature (°C)  Minimum Temperature (°C)  \\\n",
       "12323                      32.1                      25.0   \n",
       "12322                      32.0                      24.0   \n",
       "12321                      31.4                      25.3   \n",
       "12320                      31.5                      25.4   \n",
       "12319                      33.0                      25.7   \n",
       "\n",
       "       Mean Wind Speed (km/h)  Max Wind Speed (km/h)  \n",
       "12323                     6.8                   28.1  \n",
       "12322                     6.1                   31.3  \n",
       "12321                     7.6                   27.4  \n",
       "12320                     7.2                   31.3  \n",
       "12319                    10.4                   34.9  "
      ]
     },
     "execution_count": 32,
     "metadata": {},
     "output_type": "execute_result"
    }
   ],
   "source": [
    "weather.head()"
   ]
  },
  {
   "cell_type": "code",
   "execution_count": 33,
   "metadata": {},
   "outputs": [],
   "source": [
    "weather.to_csv('data/weather.csv', index=False)"
   ]
  },
  {
   "cell_type": "markdown",
   "metadata": {},
   "source": [
    "## 2. MONTHLY DATA\n",
    "Here, I'll do some light processing of the monthly average data for rainfall, maximum and mean temperatures. They are in the raw folder's \"monthly_data\" sub-folder."
   ]
  },
  {
   "cell_type": "markdown",
   "metadata": {},
   "source": [
    "### 2.1 MONTHLY RAINFALL RECORDS"
   ]
  },
  {
   "cell_type": "code",
   "execution_count": 34,
   "metadata": {},
   "outputs": [],
   "source": [
    "monthly_rain = pd.read_csv('raw/monthly_data/monthly_rain.csv')"
   ]
  },
  {
   "cell_type": "code",
   "execution_count": 35,
   "metadata": {},
   "outputs": [],
   "source": [
    "monthly_rain[\"month\"] = pd.to_datetime(monthly_rain[\"month\"])\n",
    "monthly_rain[\"year\"] = monthly_rain[\"month\"].dt.year\n",
    "monthly_rain[\"month\"] = monthly_rain[\"month\"].dt.month"
   ]
  },
  {
   "cell_type": "code",
   "execution_count": 36,
   "metadata": {},
   "outputs": [],
   "source": [
    "monthly_rain = monthly_rain.rename(columns = {\"year\": \"Year\", \n",
    "                                              \"month\": \"Month\", \n",
    "                                              \"total_rainfall\": \"Total_Monthly_Rainfall (mm)\"})"
   ]
  },
  {
   "cell_type": "code",
   "execution_count": 37,
   "metadata": {},
   "outputs": [],
   "source": [
    "# For consistency with the daily records, I'll start with entries from 1983 for the monthly datasets as well \n",
    "cols_rain = [\"Total_Monthly_Rainfall (mm)\", \"Year\", \"Month\"]\n",
    "monthly_rain = monthly_rain[cols_rain].copy()\n",
    "monthly_rain = monthly_rain[monthly_rain[\"Year\"] >= 1983]"
   ]
  },
  {
   "cell_type": "code",
   "execution_count": 50,
   "metadata": {},
   "outputs": [],
   "source": [
    "monthly_rain.to_csv('data/rain_monthly.csv', index=False)"
   ]
  },
  {
   "cell_type": "code",
   "execution_count": 39,
   "metadata": {},
   "outputs": [
    {
     "data": {
      "text/html": [
       "<div>\n",
       "<style scoped>\n",
       "    .dataframe tbody tr th:only-of-type {\n",
       "        vertical-align: middle;\n",
       "    }\n",
       "\n",
       "    .dataframe tbody tr th {\n",
       "        vertical-align: top;\n",
       "    }\n",
       "\n",
       "    .dataframe thead th {\n",
       "        text-align: right;\n",
       "    }\n",
       "</style>\n",
       "<table border=\"1\" class=\"dataframe\">\n",
       "  <thead>\n",
       "    <tr style=\"text-align: right;\">\n",
       "      <th></th>\n",
       "      <th>Total_Monthly_Rainfall (mm)</th>\n",
       "      <th>Year</th>\n",
       "      <th>Month</th>\n",
       "    </tr>\n",
       "  </thead>\n",
       "  <tbody>\n",
       "    <tr>\n",
       "      <th>445</th>\n",
       "      <td>31.6</td>\n",
       "      <td>2019</td>\n",
       "      <td>2</td>\n",
       "    </tr>\n",
       "    <tr>\n",
       "      <th>446</th>\n",
       "      <td>72.2</td>\n",
       "      <td>2019</td>\n",
       "      <td>3</td>\n",
       "    </tr>\n",
       "    <tr>\n",
       "      <th>447</th>\n",
       "      <td>174.8</td>\n",
       "      <td>2019</td>\n",
       "      <td>4</td>\n",
       "    </tr>\n",
       "    <tr>\n",
       "      <th>448</th>\n",
       "      <td>69.0</td>\n",
       "      <td>2019</td>\n",
       "      <td>5</td>\n",
       "    </tr>\n",
       "    <tr>\n",
       "      <th>449</th>\n",
       "      <td>173.8</td>\n",
       "      <td>2019</td>\n",
       "      <td>6</td>\n",
       "    </tr>\n",
       "  </tbody>\n",
       "</table>\n",
       "</div>"
      ],
      "text/plain": [
       "     Total_Monthly_Rainfall (mm)  Year  Month\n",
       "445                         31.6  2019      2\n",
       "446                         72.2  2019      3\n",
       "447                        174.8  2019      4\n",
       "448                         69.0  2019      5\n",
       "449                        173.8  2019      6"
      ]
     },
     "execution_count": 39,
     "metadata": {},
     "output_type": "execute_result"
    }
   ],
   "source": [
    "monthly_rain.tail()"
   ]
  },
  {
   "cell_type": "markdown",
   "metadata": {},
   "source": [
    "### 2.2 MONTHLY MEAN TEMPERATURES"
   ]
  },
  {
   "cell_type": "code",
   "execution_count": 40,
   "metadata": {},
   "outputs": [],
   "source": [
    "mean_temp = pd.read_csv('raw/monthly_data/monthly_temp_mean.csv')"
   ]
  },
  {
   "cell_type": "code",
   "execution_count": 41,
   "metadata": {},
   "outputs": [],
   "source": [
    "mean_temp[\"month\"] = pd.to_datetime(mean_temp[\"month\"])\n",
    "mean_temp[\"year\"] = mean_temp[\"month\"].dt.year\n",
    "mean_temp[\"month\"] = mean_temp[\"month\"].dt.month"
   ]
  },
  {
   "cell_type": "code",
   "execution_count": 42,
   "metadata": {},
   "outputs": [],
   "source": [
    "mean_temp = mean_temp.rename(\n",
    "    columns={\n",
    "        \"year\": \"Year\",\n",
    "        \"month\": \"Month\",\n",
    "        \"mean_temp\": \"Mean_Monthly_Temperature (°C)\",\n",
    "    }\n",
    ")"
   ]
  },
  {
   "cell_type": "code",
   "execution_count": 43,
   "metadata": {},
   "outputs": [],
   "source": [
    "cols_temp_mean = [\"Mean_Monthly_Temperature (°C)\", \"Year\", \"Month\"]\n",
    "mean_temp = mean_temp[cols_temp_mean].copy()\n",
    "mean_temp = mean_temp[mean_temp[\"Year\"] >= 1983]"
   ]
  },
  {
   "cell_type": "code",
   "execution_count": 44,
   "metadata": {},
   "outputs": [],
   "source": [
    "mean_temp.to_csv('data/mean_temp_monthly.csv', index=False)"
   ]
  },
  {
   "cell_type": "markdown",
   "metadata": {},
   "source": [
    "### 2.3 MONTHLY MAX TEMPERATURES"
   ]
  },
  {
   "cell_type": "code",
   "execution_count": 45,
   "metadata": {},
   "outputs": [],
   "source": [
    "max_temp = pd.read_csv('raw/monthly_data/monthly_temp_max.csv')"
   ]
  },
  {
   "cell_type": "code",
   "execution_count": 46,
   "metadata": {},
   "outputs": [],
   "source": [
    "max_temp[\"month\"] = pd.to_datetime(max_temp[\"month\"])\n",
    "max_temp[\"year\"] = max_temp[\"month\"].dt.year\n",
    "max_temp[\"month\"] = max_temp[\"month\"].dt.month"
   ]
  },
  {
   "cell_type": "code",
   "execution_count": 47,
   "metadata": {},
   "outputs": [],
   "source": [
    "max_temp = max_temp.rename(\n",
    "    columns={\n",
    "        \"year\": \"Year\",\n",
    "        \"month\": \"Month\",\n",
    "        \"max_temperature\": \"Max_Monthly_Temperature (°C)\",\n",
    "    }\n",
    ")"
   ]
  },
  {
   "cell_type": "code",
   "execution_count": 48,
   "metadata": {},
   "outputs": [],
   "source": [
    "cols_temp_max = [\"Max_Monthly_Temperature (°C)\", \"Year\", \"Month\"]\n",
    "max_temp = max_temp[cols_temp_max].copy()\n",
    "max_temp = max_temp[max_temp[\"Year\"] >= 1983]"
   ]
  },
  {
   "cell_type": "code",
   "execution_count": 49,
   "metadata": {},
   "outputs": [],
   "source": [
    "max_temp.to_csv('data/max_temp_monthly.csv', index=False)"
   ]
  }
 ],
 "metadata": {
  "kernelspec": {
   "display_name": "Python 3",
   "language": "python",
   "name": "python3"
  },
  "language_info": {
   "codemirror_mode": {
    "name": "ipython",
    "version": 3
   },
   "file_extension": ".py",
   "mimetype": "text/x-python",
   "name": "python",
   "nbconvert_exporter": "python",
   "pygments_lexer": "ipython3",
   "version": "3.11.9"
  }
 },
 "nbformat": 4,
 "nbformat_minor": 4
}
