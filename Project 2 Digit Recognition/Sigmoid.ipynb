{
 "cells": [
  {
   "cell_type": "markdown",
   "metadata": {},
   "source": [
    "## Sigmoid Function (Logistic Function)\n",
    "\n",
    "The most common sigmoid function used in machine learning is Logistic Function (formula below).\n",
    "\n",
    "$$\n",
    "f(x) = \\frac{1}{1 + e^{-x}}\n",
    "$$\n",
    "\n",
    "The formula is simple, but it is quite useful because it offers us some nice properties:\n",
    "\n",
    "- It maps the feature space into **probability functions**\n",
    "- It uses exponential\n",
    "- It is differentiable"
   ]
  }
 ],
 "metadata": {
  "language_info": {
   "name": "python"
  }
 },
 "nbformat": 4,
 "nbformat_minor": 2
}
