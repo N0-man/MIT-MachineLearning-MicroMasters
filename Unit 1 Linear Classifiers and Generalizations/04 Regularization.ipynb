{
 "cells": [
  {
   "cell_type": "markdown",
   "metadata": {},
   "source": [
    "## Regularization"
   ]
  },
  {
   "cell_type": "markdown",
   "metadata": {},
   "source": [
    "Regularization is a technique used in machine learning to prevent overfitting, which occurs when a model becomes too complex and performs well on the training data but poorly on new, unseen data. It helps to find a balance between capturing the patterns in the training data and generalizing well to new data.\n",
    "\n",
    "In simple terms, regularization adds a penalty term to the model’s objective function, encouraging it to keep the model weights small or sparse. This penalty discourages the model from relying too heavily on any particular feature or from fitting the noise in the training data.\n",
    "\n",
    "**Generalization** refers to the ability of a machine learning model to perform well on unseen data. A model that generalizes well is able to learn the underlying patterns in the training data without overfitting to the specific details of that data. Generalization is the ultimate goal of most machine learning models, as it indicates that the model will be useful in making predictions on real-world data. Regularization is one technique that can help improve a model's generalization ability."
   ]
  }
 ],
 "metadata": {
  "language_info": {
   "name": "python"
  }
 },
 "nbformat": 4,
 "nbformat_minor": 2
}
