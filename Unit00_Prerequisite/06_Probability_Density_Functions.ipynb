{
 "cells": [
  {
   "cell_type": "markdown",
   "metadata": {},
   "source": [
    "## 06 Probability Density Functions\n",
    "\n",
    "Two simple examples of Probability Density Functions (PDFs): the Uniform distribution and the Normal (Gaussian) distribution.\n",
    "\n",
    "1. **Uniform Distribution**\n",
    "\n",
    "The PDF of a Uniform distribution in the interval [a, b] is:\n",
    "\n",
    "   ```\n",
    "   f(x) = 1 / (b - a) for a <= x <= b\n",
    "   f(x) = 0 otherwise\n",
    "   ```\n",
    "\n",
    "This means that all outcomes in the interval [a, b] are equally likely. For example, if a = 0 and b = 1, then the probability of x being between 0 and 1 is 1, and outside this interval is 0.\n",
    "\n",
    "While it's true that the total probability (the area under the curve of the probability density function) must be 1, the value of the density function itself can be greater than 1. The height of the probability density function is 2 for all x in [0, 0.5], even though the probabilities themselves must be between 0 and 1. This is because the density function represents probability per unit of x, and the total probability is obtained by integrating the density function over the range of x, which gives an area (probability) of 1.\n"
   ]
  },
  {
   "cell_type": "code",
   "execution_count": 16,
   "metadata": {},
   "outputs": [
    {
     "name": "stdout",
     "output_type": "stream",
     "text": [
      "0\n",
      "2.0\n"
     ]
    }
   ],
   "source": [
    "def uniform_pdf(x, a, b):\n",
    "    return 1 / (b - a) if a <= x <= b else 0\n",
    "\n",
    "print(uniform_pdf(3, 0, 1))\n",
    "print(uniform_pdf(0.1, 0, 0.5))"
   ]
  },
  {
   "cell_type": "markdown",
   "metadata": {},
   "source": [
    "2. **Normal Distribution**\n",
    "\n",
    "The PDF of a Normal distribution with mean μ and standard deviation σ is:\n",
    "\n",
    " ```\n",
    "f(x) = (1 / (σ * sqrt(2π))) * exp(-(x - μ)^2 / (2σ^2))\n",
    "```\n",
    "\n",
    "This distribution is bell-shaped and is determined by the mean μ and the standard deviation σ. The highest probability is at x = μ, and the probability decreases as x moves away from μ. For example, if μ = 0 and σ = 1, then the probability of x is highest at 0 and decreases as x moves away from 0.\n",
    "\n",
    "Remember that these are continuous distributions, so the PDF gives the probability density at a given point, not the probability of that point. The probability of a range of values is given by the integral of the PDF over that range."
   ]
  },
  {
   "cell_type": "code",
   "execution_count": null,
   "metadata": {},
   "outputs": [],
   "source": [
    "import numpy as np\n",
    "\n",
    "def normal_pdf(x, mu, sigma):\n",
    "    sqrt_two_pi = np.sqrt(2 * np.pi)\n",
    "    return (np.exp(-(x-mu)**2 / 2 / sigma**2) / (sqrt_two_pi * sigma))"
   ]
  },
  {
   "cell_type": "markdown",
   "metadata": {},
   "source": [
    "### Question\n",
    "\n",
    "for $a<b$ and $∫_{a}^{b} f_X(x)dx \\in [0,1]$, represent the probability that the value of X falls between a and b\n",
    "\n",
    "**Explanation**\n",
    "YES. For a continuous random variable `X` with a probability density function $f_X(x)$, the integral of $f_X(x)$ from `a` to `b` represents the probability that `X` falls within the interval $[a, b]$. \n",
    "\n",
    "Mathematically, this is represented as:\n",
    "\n",
    "$$P(a <= X <= b) = ∫_{a}^{b} f_X(x) dx$$\n"
   ]
  }
 ],
 "metadata": {
  "kernelspec": {
   "display_name": "Python 3",
   "language": "python",
   "name": "python3"
  },
  "language_info": {
   "codemirror_mode": {
    "name": "ipython",
    "version": 3
   },
   "file_extension": ".py",
   "mimetype": "text/x-python",
   "name": "python",
   "nbconvert_exporter": "python",
   "pygments_lexer": "ipython3",
   "version": "3.11.5"
  }
 },
 "nbformat": 4,
 "nbformat_minor": 2
}
