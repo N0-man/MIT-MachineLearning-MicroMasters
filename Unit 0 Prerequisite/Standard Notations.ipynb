{
 "cells": [
  {
   "cell_type": "markdown",
   "metadata": {},
   "source": [
    "## Standard Notation guide\n",
    "\n",
    "Many exercises and problems throughout the course will ask you to provide an algebraic answer in terms of symbols. Please follow the guidelines below when entering your responses. Below your answer textbox, the system will also display, in a \"pretty\" format, what it has interpreted your input to be. However, this display is not perfect (for example, it will not catch all cases of missing close parentheses) so please also check your text input carefully.\n",
    "\n",
    "- **Symbols are case-sensitive:** **a** and **A** are different – make sure to use the correct case as specified in the problem\n",
    "- **Parentheses:** make sure that your parentheses are properly balanced – each open parenthesis should have a matching close parenthesis!\n",
    "- **Elementary arithmetic operations:** use the symbols **+** , **-** , **\\*** , **/** for addition, subtraction, multiplication, and division, respectively\n",
    "  - should be entered as **1+b\\*c-d/e**\n",
    "- **For multiplication, use \\*\\*\\*** explicitly:\\*\\*\n",
    "  - in the example above, enter **b\\*c** ; do NOT enter **bc**\n",
    "  - for , enter **2*n*(n+1)** ; do NOT enter **2n(n+1)**\n",
    "  - although the \"pretty\" display underneath your answer looks correct if you do not include **\\*** s, your answer will be marked incorrect!\n",
    "- **Exponents:** use the symbol **^** to denote exponentiation\n",
    "  - should be entered as **2^n**\n",
    "  - should be entered as **x^(n+1)**\n",
    "- **Square root:** use the string of letters **sqrt** , followed by enclosing what is under the square root in parentheses\n",
    "  - should be entered as **sqrt(-1)**\n",
    "- **Mathematical constants:** use the symbol **e** for the base of the natural logarithm, ; use the string of letters **pi** for\n",
    "  - should be entered as **e^(i\\*(pi))+1**\n",
    "- **Order of operations:** 1) parentheses, 2) exponents and roots, 3) multiplication and division, 4) addition and subtraction\n",
    "  - should be entered as **(1/sqrt(2*(pi)))*e^(-(x^2)/2)**\n",
    "  - **a/b\\*c** is interpreted as ; enter **a/(b\\*c)** for\n",
    "  - When in doubt, use additional parentheses to remove possible ambiguitites\n",
    "- **Natural logarithm:** although in lectures and solved problems we will sometimes use the notation \"log\" (instead of \"ln\"), you should use the string of letters **ln** , followed by the argument enclosed in parentheses\n",
    "  - should be entered as **ln(2\\*x)**\n",
    "- **Trigonometric functions:** use the usual 3-letter symbols to denote the standard trigonometric functions\n",
    "  - should be entered as **sin(x)**\n",
    "- **Greek letters:** use the Latin-character name to denote each Greek letter\n",
    "  - should be entered as **lambda*e^(-lambda*t)**\n",
    "  - should be entered as **mu*alpha*theta**\n",
    "- **Factorials, permutations, combinations:** you will not need enter these for any symbolic answers; do **NOT** use **!** in your answers as it will not be evaluated correctly!\n"
   ]
  }
 ],
 "metadata": {
  "language_info": {
   "name": "python"
  }
 },
 "nbformat": 4,
 "nbformat_minor": 2
}
