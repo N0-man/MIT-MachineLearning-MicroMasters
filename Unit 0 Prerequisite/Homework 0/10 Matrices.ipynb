{
 "cells": [
  {
   "cell_type": "markdown",
   "metadata": {},
   "source": [
    "## Matrices and Vectors"
   ]
  },
  {
   "cell_type": "markdown",
   "metadata": {},
   "source": [
    "**Matrices** and **vectors** are fundamental concepts in linear algebra.\n",
    "\n",
    "A **matrix** is a rectangular array of numbers arranged in rows and columns. For example, a 2x3 matrix has 2 rows and 3 columns:\n",
    "\n"
   ]
  },
  {
   "cell_type": "markdown",
   "metadata": {},
   "source": [
    "```\n",
    "A = [[a, b, c],\n",
    "     [d, e, f]]\n",
    "```"
   ]
  },
  {
   "cell_type": "markdown",
   "metadata": {},
   "source": [
    "A **vector** is a special type of matrix that has only one row or one column. For example, a column vector with 3 elements looks like this:"
   ]
  },
  {
   "cell_type": "markdown",
   "metadata": {},
   "source": [
    "```\n",
    "v = [[x],\n",
    "     [y],\n",
    "     [z]]\n",
    "```"
   ]
  },
  {
   "cell_type": "markdown",
   "metadata": {},
   "source": [
    "\n",
    "\n",
    "The **product** of a matrix `A` and a vector `v` is another vector `Av` that's obtained by multiplying each row of `A` by `v` and summing the results. In order for this product to be defined, the number of columns in `A` must be equal to the number of rows in `v`. In general If you have a **row vector** and a **matrix**, the vector should be on the **left** of the product i.e. `v.A`, and if you have a column vector and a matrix, the vector should be on the right of the product i.e. `A.v`.\n",
    "\n",
    "```\n",
    "M = [[a, b],\n",
    "     [c, d]]\n",
    "\n",
    "v = [[x],\n",
    "     [y]]\n",
    "```\n",
    "the product of Mv would be\n",
    "```\n",
    "Mv = [[ax + by],\n",
    "      [cx + dy]]\n",
    "```\n",
    "\n",
    "The **inverse** of a square matrix `A` (a matrix with the same number of rows and columns) is a matrix `A^-1` such that the product `AA^-1` is the identity matrix. The identity matrix is a special square matrix that has 1s on the diagonal and 0s elsewhere. Not all matrices have an inverse; if an inverse exists, it can be computed using various algorithms.\n",
    "\n",
    "Here's an example in Python using the `numpy` library. The code first computes the product of `A` and `v`, then computes the inverse of `A`, and finally verifies that `AA^-1` is the identity matrix."
   ]
  },
  {
   "cell_type": "code",
   "execution_count": 14,
   "metadata": {},
   "outputs": [
    {
     "name": "stdout",
     "output_type": "stream",
     "text": [
      "[13 31  7]\n",
      "[[-1.16666667  0.66666667 -0.5       ]\n",
      " [ 0.33333333 -0.33333333  1.        ]\n",
      " [ 0.5        -0.         -0.5       ]]\n",
      "[[1.00000000e+00 0.00000000e+00 0.00000000e+00]\n",
      " [4.44089210e-16 1.00000000e+00 0.00000000e+00]\n",
      " [1.11022302e-16 0.00000000e+00 1.00000000e+00]]\n",
      "True\n"
     ]
    }
   ],
   "source": [
    "import numpy as np\n",
    "\n",
    "# Define a 3x3 matrix A and a row vector v\n",
    "A = np.array([[1, 2, 3], [4, 5, 6], [1, 2, 1]])\n",
    "v = np.array([2, 1, 3])\n",
    "\n",
    "# Compute the product Av\n",
    "Av = np.dot(A, v)\n",
    "print(Av)\n",
    "\n",
    "# Compute the inverse of A\n",
    "A_inv = np.linalg.inv(A)\n",
    "print(A_inv)\n",
    "\n",
    "# Verify that AA^-1 is the identity matrix\n",
    "I = np.dot(A, A_inv)\n",
    "print(I)\n",
    "\n",
    "is_identity = np.allclose(I, np.eye(I.shape[0]))\n",
    "print(is_identity)\n"
   ]
  }
 ],
 "metadata": {
  "kernelspec": {
   "display_name": "Python 3",
   "language": "python",
   "name": "python3"
  },
  "language_info": {
   "codemirror_mode": {
    "name": "ipython",
    "version": 3
   },
   "file_extension": ".py",
   "mimetype": "text/x-python",
   "name": "python",
   "nbconvert_exporter": "python",
   "pygments_lexer": "ipython3",
   "version": "3.11.5"
  }
 },
 "nbformat": 4,
 "nbformat_minor": 2
}
