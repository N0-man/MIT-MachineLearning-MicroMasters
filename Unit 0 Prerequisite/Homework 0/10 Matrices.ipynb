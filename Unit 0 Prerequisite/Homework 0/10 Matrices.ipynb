{
 "cells": [
  {
   "cell_type": "markdown",
   "metadata": {},
   "source": [
    "## 10 Matrices and Vectors"
   ]
  },
  {
   "cell_type": "markdown",
   "metadata": {},
   "source": [
    "**Matrices** and **vectors** are fundamental concepts in linear algebra.\n",
    "\n",
    "A **matrix** is a rectangular array of numbers arranged in rows and columns. For example, a 2x3 matrix has 2 rows and 3 columns:\n",
    "\n"
   ]
  },
  {
   "cell_type": "markdown",
   "metadata": {},
   "source": [
    "```\n",
    "A = [[a, b, c],\n",
    "     [d, e, f]]\n",
    "```"
   ]
  },
  {
   "cell_type": "markdown",
   "metadata": {},
   "source": [
    "A **vector** is a special type of matrix that has only one row or one column. For example, a column vector with 3 elements looks like this:"
   ]
  },
  {
   "cell_type": "markdown",
   "metadata": {},
   "source": [
    "```\n",
    "v = [[x],\n",
    "     [y],\n",
    "     [z]]\n",
    "```"
   ]
  },
  {
   "cell_type": "markdown",
   "metadata": {},
   "source": [
    "\n",
    "\n",
    "The **product** of a matrix `A` and a vector `v` is another vector `Av` that's obtained by multiplying each row of `A` by `v` and summing the results. In order for this product to be defined, the number of columns in `A` must be equal to the number of rows in `v`. In general If you have a **row vector** and a **matrix**, the vector should be on the **left** of the product i.e. `v.A`, and if you have a column vector and a matrix, the vector should be on the right of the product i.e. `A.v`.\n",
    "\n",
    "```\n",
    "M = [[a, b],\n",
    "     [c, d]]\n",
    "\n",
    "v = [[x],\n",
    "     [y]]\n",
    "```\n",
    "the product of Mv would be\n",
    "```\n",
    "Mv = [[ax + by],\n",
    "      [cx + dy]]\n",
    "```\n",
    "\n",
    "The **inverse** of a square matrix `A` (a matrix with the same number of rows and columns) is a matrix `A^-1` such that the product `AA^-1` is the identity matrix. The identity matrix is a special square matrix that has 1s on the diagonal and 0s elsewhere. Not all matrices have an inverse; if an inverse exists, it can be computed using various algorithms.\n",
    "\n",
    "Here's an example in Python using the `numpy` library. The code first computes the product of `A` and `v`, then computes the inverse of `A`, and finally verifies that `AA^-1` is the identity matrix."
   ]
  },
  {
   "cell_type": "code",
   "execution_count": 14,
   "metadata": {},
   "outputs": [
    {
     "name": "stdout",
     "output_type": "stream",
     "text": [
      "[13 31  7]\n",
      "[[-1.16666667  0.66666667 -0.5       ]\n",
      " [ 0.33333333 -0.33333333  1.        ]\n",
      " [ 0.5        -0.         -0.5       ]]\n",
      "[[1.00000000e+00 0.00000000e+00 0.00000000e+00]\n",
      " [4.44089210e-16 1.00000000e+00 0.00000000e+00]\n",
      " [1.11022302e-16 0.00000000e+00 1.00000000e+00]]\n",
      "True\n"
     ]
    }
   ],
   "source": [
    "import numpy as np\n",
    "\n",
    "# Define a 3x3 matrix A and a row vector v\n",
    "A = np.array([[1, 2, 3], [4, 5, 6], [1, 2, 1]])\n",
    "v = np.array([2, 1, 3])\n",
    "\n",
    "# Compute the product Av\n",
    "Av = np.dot(A, v)\n",
    "print(Av)\n",
    "\n",
    "# Compute the inverse of A\n",
    "A_inv = np.linalg.inv(A)\n",
    "print(A_inv)\n",
    "\n",
    "# Verify that AA^-1 is the identity matrix\n",
    "I = np.dot(A, A_inv)\n",
    "print(I)\n",
    "\n",
    "is_identity = np.allclose(I, np.eye(I.shape[0]))\n",
    "print(is_identity)\n"
   ]
  },
  {
   "cell_type": "markdown",
   "metadata": {},
   "source": [
    "### Matrix Multipilication\n",
    "\n",
    "The size of the output is the number of rows of the left matrix, and the number of\n",
    "columns of the right matrix.\n",
    "\n",
    "Let $\\mathbf{A}= \\begin{pmatrix}  1 &  -1 &  2 \\\\ 0 &  3 &  -4 \\end{pmatrix}$ and $\\mathbf{B}= \\begin{pmatrix}  -1 &  0 &  0 \\\\ 2 &  0 &  1 \\\\ 0 &  1 &  3 \\end{pmatrix}$. The dimensions of the product AB are 2x3.\n",
    "\n",
    "If A = $m \\times n$ and B is $n \\times k$ then AB = $m \\times k$. if C is $k \\times j$ then ABC = $m \\times j$"
   ]
  },
  {
   "cell_type": "markdown",
   "metadata": {},
   "source": [
    "### Vector Inner and Outer Product\n",
    "\n",
    "**Inner Product (Dot Product)**\n",
    "\n",
    "The inner product of two vectors is a single number (scalar) obtained by multiplying corresponding entries and then summing those products. \n",
    "\n",
    "If we have two vectors `a = [a1, a2, ..., an]` and `b = [b1, b2, ..., bn]`, their inner product is calculated as:\n",
    "\n",
    "`a . b = a1*b1 + a2*b2 + ... + an*bn`\n",
    "\n",
    "In Python you can either define your own function or use numpy.dot"
   ]
  },
  {
   "cell_type": "code",
   "execution_count": 3,
   "metadata": {},
   "outputs": [
    {
     "name": "stdout",
     "output_type": "stream",
     "text": [
      "Inner product using np.dot: 2\n",
      "Inner product using user defined dot: 2\n"
     ]
    }
   ],
   "source": [
    "import numpy as np\n",
    "\n",
    "# Define two vectors\n",
    "a = np.array([1, 3])\n",
    "b = np.array([-1, 1])\n",
    "\n",
    "def dot(x, y):\n",
    "    return sum(x_i * y_i for x_i, y_i in zip(x, y))\n",
    "\n",
    "# Compute the inner product / dot product\n",
    "print(f\"Inner product using np.dot: {np.dot(a, b)}\")\n",
    "print(f\"Inner product using user defined dot: {dot(a, b)}\")"
   ]
  },
  {
   "cell_type": "markdown",
   "metadata": {},
   "source": [
    "\n",
    "\n",
    "**Outer Product**\n",
    "\n",
    "The outer product of two vectors is a matrix where each element is a product of the elements of the original vectors. \n",
    "\n",
    "If we have two vectors `a = [a1, a2, ..., an]` and `b = [b1, b2, ..., bn]`, their outer product is a matrix:\n",
    "\n"
   ]
  },
  {
   "cell_type": "code",
   "execution_count": null,
   "metadata": {
    "vscode": {
     "languageId": ""
    }
   },
   "outputs": [],
   "source": [
    "a x b = [[a1*b1, a1*b2, ..., a1*bn],\n",
    "         [a2*b1, a2*b2, ..., a2*bn],\n",
    "         ...\n",
    "         [an*b1, an*b2, ..., an*bn]]"
   ]
  },
  {
   "cell_type": "markdown",
   "metadata": {},
   "source": [
    "\n",
    "\n",
    "Here's how you can compute the outer product of two vectors in Python:\n",
    "\n"
   ]
  },
  {
   "cell_type": "code",
   "execution_count": 4,
   "metadata": {},
   "outputs": [
    {
     "name": "stdout",
     "output_type": "stream",
     "text": [
      "[[-1  1]\n",
      " [-3  3]]\n"
     ]
    }
   ],
   "source": [
    "import numpy as np\n",
    "\n",
    "# Define two vectors\n",
    "a = np.array([1, 3])\n",
    "b = np.array([-1, 1])\n",
    "\n",
    "# Compute the outer product\n",
    "outer_product = np.outer(a, b)\n",
    "print(outer_product)"
   ]
  },
  {
   "cell_type": "markdown",
   "metadata": {},
   "source": [
    "\n",
    "\n",
    "In this example, the outer product of `a` and `b` is a 3x3 matrix where each element is a product of the corresponding elements of `a` and `b`."
   ]
  }
 ],
 "metadata": {
  "kernelspec": {
   "display_name": "Python 3",
   "language": "python",
   "name": "python3"
  },
  "language_info": {
   "codemirror_mode": {
    "name": "ipython",
    "version": 3
   },
   "file_extension": ".py",
   "mimetype": "text/x-python",
   "name": "python",
   "nbconvert_exporter": "python",
   "pygments_lexer": "ipython3",
   "version": "3.11.5"
  }
 },
 "nbformat": 4,
 "nbformat_minor": 2
}
