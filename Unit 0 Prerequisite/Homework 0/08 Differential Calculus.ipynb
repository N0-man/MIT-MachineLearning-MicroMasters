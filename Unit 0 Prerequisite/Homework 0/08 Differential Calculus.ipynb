{
 "cells": [
  {
   "cell_type": "markdown",
   "metadata": {},
   "source": [
    "## Differential Calculus\n",
    "This branch focuses on the concept of a derivative, which can be loosely thought of as how much one quantity is changing in response to changes in some other quantity. Differential calculus is used to solve problems of finding maximum and minimum values of functions, rates of change, and slope of curves.\n",
    "\n",
    "### Derivative of Function f(x)\n",
    "\n",
    "For a general function $f(x)$, the derivative $f'(x)$ can be found by applying the rules of differentiation. Here are some basic rules:\n",
    "\n",
    "1. **Constant Rule**: The derivative of a constant is 0.\n",
    "2. **Power Rule**: The derivative of $x^n$ is $n*x^{n-1}$.\n",
    "3. **Product Rule**: The derivative of $u*v$ is $u'*v + u*v'$.\n",
    "4. **Quotient Rule**: The derivative of $u/v` is `(u'*v - u*v') / v^2$.\n",
    "5. **Chain Rule**: The derivative of $f(g(x)) ` is ` f'(g(x)) * g'(x)$.\n",
    "\n",
    "Where `u` and `v` are functions of `x`, and `u'` and `v'` are their respective derivatives.\n",
    "\n",
    "For example, if $f(x) = x^2$, then using the power rule, $f'(x) = 2*x^{2-1} = 2*x$."
   ]
  },
  {
   "cell_type": "markdown",
   "metadata": {},
   "source": [
    "### First and Second Derivatives (Primes)\n",
    "Find the derivatives for function\n",
    "$$\n",
    "f(x) = (1/3)x^3 - x^2 - 3x + 10\n",
    "$$. \n",
    "\n",
    "To find the first derivative, we apply the power rule for each term:\n",
    "\n",
    "1. The derivative of $(1/3)x^3$ is $x^2$.\n",
    "2. The derivative of $-x^2$ is $-2x$.\n",
    "3. The derivative of $-3x$ is $-3$.\n",
    "4. The derivative of a constant (like $10$) is $0$.\n",
    "\n",
    "So, the first derivative of `f(x)` is `f'(x) = x^2 - 2x - 3`.\n",
    "\n",
    "To find the second derivative, we again apply the power rule to each term of the first derivative:\n",
    "\n",
    "1. The derivative of $x^2$ is $2x$.\n",
    "2. The derivative of $-2x$ is $-2$.\n",
    "3. The derivative of $-3$ is $0$.\n",
    "\n",
    "So, the second derivative of $f(x)$ is $f''(x) = 2x - 2$.\n",
    "\n",
    "In Python, you can use the `sympy.diff` function to compute derivatives. For example:\n",
    "\n"
   ]
  },
  {
   "cell_type": "code",
   "execution_count": 2,
   "metadata": {},
   "outputs": [
    {
     "name": "stdout",
     "output_type": "stream",
     "text": [
      "First derivative: 1.0*x**2 - 2*x - 3\n",
      "Second derivative: 2.0*x - 2\n"
     ]
    }
   ],
   "source": [
    "import sympy as sp\n",
    "\n",
    "x = sp.symbols('x')\n",
    "f = (1/3)*x**3 - x**2 - 3*x + 10\n",
    "\n",
    "# First derivative\n",
    "f_prime = sp.diff(f, x)\n",
    "print(f\"First derivative: {f_prime}\")\n",
    "\n",
    "# Second derivative\n",
    "f_double_prime = sp.diff(f_prime, x)\n",
    "print(f\"Second derivative: {f_double_prime}\")"
   ]
  },
  {
   "cell_type": "markdown",
   "metadata": {},
   "source": [
    "## Optimization via Calculus\n",
    "\n",
    "Optimization using calculus involves finding the maximum or minimum values of a function. This is often done by finding the derivative of the function and setting it equal to zero, which gives the critical points. The second derivative can then be used to determine whether these points are maxima, minima, or neither.\n",
    "\n",
    "Let's optimize the function $f(x) = 1/3x^3 - x^2 - 3x + 10$ on the interval $[-4, 4]$.\n",
    "\n",
    "1. First, find the derivative of `f(x)`. The derivative of `f(x)` is `f'(x) = x^2 - 2x - 3`.\n",
    "\n",
    "2. Set the derivative equal to zero and solve for `x` to find the critical points. This is a quadratic equation i.e. $f'(x) = 0$ or $x^2 - 2x - 3 = 0$. You can represent the equation in the form of\n",
    "\n",
    "$$y = ax^{2} + bx + c$$\n",
    "where `a = 1`, `b = -2`, and `c = -3`. You can now use the quadratic formulae \n",
    "\n",
    "$$\n",
    "x = \\frac{[-b ± \\sqrt{b^2 - 4ac}]} {2a}\n",
    "$$\n",
    "\n",
    "- For `b^2 - 4ac`. it would be, `(-2)^2 - 4*1*(-3) = 4 + 12 = 16`. The square root of `16` is `4`\n",
    "- Substitute `b`, `a`, and the square root of the discriminant into the quadratic formula to find the solutions. This gives `x = [2 ± 4] / (2*1)`, which simplifies to $[-1, 3]$ or `x1 = -1` and `x2 = 3`.\n",
    "\n",
    "Here is Python example"
   ]
  },
  {
   "cell_type": "code",
   "execution_count": 3,
   "metadata": {},
   "outputs": [
    {
     "name": "stdout",
     "output_type": "stream",
     "text": [
      "Solutions: [-1, 3]\n"
     ]
    }
   ],
   "source": [
    "import sympy as sp\n",
    "\n",
    "x = sp.symbols('x')\n",
    "equation = x**2 - 2*x - 3\n",
    "\n",
    "# Solve the equation\n",
    "solutions = sp.solve(equation, x)\n",
    "\n",
    "print(f\"Solutions: {solutions}\")"
   ]
  },
  {
   "cell_type": "markdown",
   "metadata": {},
   "source": [
    "### Local maxima or minima\n",
    "\n",
    "In calculus, the second derivative test is a method to classify the local maximum and local minimum of a function. Here's how it works:\n",
    "\n",
    "Compute the second derivative of the function and substitute each critical point into the second derivative:\n",
    "\n",
    "- If the second derivative at that point is positive $(f''(c) > 0)$, then the function has a local minimum at that point.\n",
    "- If the second derivative at that point is negative $(f''(c) < 0)$, then the function has a local maximum at that point.\n",
    "- If the second derivative at that point is zero $(f''(c) = 0)$, then the test is inconclusive, and you'll need to use another method to classify the point.\n",
    "\n",
    "**Continuing the above  optimization problem...**\n",
    "\n",
    "3. Next will dertimine the local maxima or minima using the second derivative. The second derivative of $f(x)$ is $f''(x) = 2x - 2$.. Since `f''(-1) = -4` is negative, `x1 = -1` is a local maximum. Since `f''(3) = 4` is positive, `x2 = 3` is a local minimum.\n",
    "\n",
    "Here's how you can do this in Python:"
   ]
  },
  {
   "cell_type": "code",
   "execution_count": 23,
   "metadata": {},
   "outputs": [
    {
     "name": "stdout",
     "output_type": "stream",
     "text": [
      "Local maximum at x = -1.00000000000000, f(x) = 11.6666666666667\n",
      "Local minimum at x = 3.00000000000000, f(x) = 1.00000000000000\n"
     ]
    }
   ],
   "source": [
    "import sympy as sp\n",
    "\n",
    "x = sp.symbols('x')\n",
    "f = (1/3)*x**3 - x**2 - 3*x + 10\n",
    "\n",
    "# Find the derivative\n",
    "f_prime = sp.diff(f, x)\n",
    "\n",
    "# Solve for critical points\n",
    "critical_points = sp.solve(f_prime, x)\n",
    "\n",
    "# Find the second derivative\n",
    "f_double_prime = sp.diff(f_prime, x)\n",
    "\n",
    "# Determine maxima, minima, or neither\n",
    "for point in critical_points:\n",
    "    if f_double_prime.evalf(subs={x: point}) < 0:\n",
    "        print(f\"Local maximum at x = {point}, f(x) = {f.evalf(subs={x: point})}\")\n",
    "    elif f_double_prime.evalf(subs={x: point}) > 0:\n",
    "        print(f\"Local minimum at x = {point}, f(x) = {f.evalf(subs={x: point})}\")\n",
    "    else:\n",
    "        print(f\"x = {point} is neither a maximum nor a minimum.\")"
   ]
  },
  {
   "cell_type": "markdown",
   "metadata": {},
   "source": [
    "### Global maxima and minima\n",
    "\n",
    "In calculus, global (or absolute) maxima and minima are the highest and lowest values that a function achieves on its entire domain, respectively.\n",
    "\n",
    "- A global maximum is a point where the function's value is greater than or equal to the values of all other points in the entire domain of the function. It's the highest peak of the function.\n",
    "\n",
    "- A global minimum is a point where the function's value is less than or equal to the values of all other points in the entire domain of the function. It's the lowest valley of the function.\n",
    "\n",
    "\n",
    "**Continuing the above optimization problem...**\n",
    "\n",
    "4. Finally, evaluate the function at the critical points and the endpoints of the interval. The maximum and minimum values of the function on the interval are the highest and lowest of these values, respectively."
   ]
  },
  {
   "cell_type": "code",
   "execution_count": 22,
   "metadata": {},
   "outputs": [
    {
     "name": "stdout",
     "output_type": "stream",
     "text": [
      "On points  [-4, 4, -1.00000000000000, 3.00000000000000]\n",
      "Global maximum is at point -1.00000000000000 with value 11.6666666666667\n",
      "Global minimum is at point -4 with value -15.3333333333333\n"
     ]
    }
   ],
   "source": [
    "import sympy as sp\n",
    "\n",
    "x = sp.symbols('x')\n",
    "f = (1/3)*x**3 - x**2 - 3*x + 10\n",
    "\n",
    "# endpoints [-4, 4]\n",
    "endpoints = [-4, 4]\n",
    "\n",
    "# Evaluate the function at the endpoints [-4, 4] and critical points\n",
    "result = dict()\n",
    "for point in endpoints + critical_points:\n",
    "    result[point] = f.evalf(subs={x: point})\n",
    "    # print(f\"f({point}) = {f.evalf(subs={x: point})}\")\n",
    "\n",
    "global_maximum = max(result.items(), key=lambda x: x[1])\n",
    "global_minimum = min(result.items(), key=lambda x: x[1])\n",
    "\n",
    "print(\"On points \", endpoints + critical_points)\n",
    "print(f\"Global maximum is at point {global_maximum[0]} with value {global_maximum[1]}\")\n",
    "print(f\"Global minimum is at point {global_minimum[0]} with value {global_minimum[1]}\")"
   ]
  }
 ],
 "metadata": {
  "kernelspec": {
   "display_name": "Python 3",
   "language": "python",
   "name": "python3"
  },
  "language_info": {
   "codemirror_mode": {
    "name": "ipython",
    "version": 3
   },
   "file_extension": ".py",
   "mimetype": "text/x-python",
   "name": "python",
   "nbconvert_exporter": "python",
   "pygments_lexer": "ipython3",
   "version": "3.11.5"
  }
 },
 "nbformat": 4,
 "nbformat_minor": 2
}
