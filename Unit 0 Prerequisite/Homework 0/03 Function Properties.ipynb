{
 "cells": [
  {
   "cell_type": "markdown",
   "metadata": {},
   "source": [
    "## Function properties"
   ]
  },
  {
   "cell_type": "markdown",
   "metadata": {},
   "source": [
    "The expression $\\displaystyle \\lim _{x\\to \\pm \\infty } f(x)$ represents the limit of the function $f(x)$ as $x$ approaches positive or negative infinity.\n",
    "\n",
    "1. $\\displaystyle \\lim _{x\\to +\\infty } f(x)$: This represents the limit of the function $f(x)$ as $x$ approaches positive infinity. It describes the behavior of $f(x)$ as $x$ gets larger and larger.\n",
    "\n",
    "2. $\\displaystyle \\lim _{x\\to -\\infty } f(x)$: This represents the limit of the function $f(x)$ as $x$ approaches negative infinity. It describes the behavior of $f(x)$ as $x$ gets smaller and smaller (more negative).\n",
    "\n",
    "These limits are used to understand the behavior of functions at extreme values of $x$. If the limits exist and are finite, it gives us information about the end behavior of the function. If the limits are infinite or do not exist, it tells us that the function does not settle down to any particular value as $x$ gets extremely large or extremely small.\n",
    "\n",
    "**Note**\n",
    "In mathematics, $e$ is a special number that is approximately equal to 2.71828. It is an irrational number, meaning it cannot be expressed as a simple fraction, and its decimal representation never ends or repeats."
   ]
  },
  {
   "cell_type": "markdown",
   "metadata": {},
   "source": [
    "### Question 1 (ReLU)\n",
    "\n",
    "The function $f(x) = \\max(0, x)$ is also known as the ReLU (Rectified Linear Unit) function in the field of machine learning. It returns the input value if it's positive, otherwise it returns 0.\n",
    "\n",
    "1. When we consider the limit of $f(x)$ as $x$ approaches negative infinity, we are looking at the behavior of the function as $x$ gets very large in the negative direction. For all negative values of $x$, $f(x) = \\max(0, x)$ will return 0, because 0 is greater than any negative number. Therefore, the limit of $f(x)$ as $x$ approaches negative infinity is 0. \n",
    "\n",
    "So, $\\displaystyle \\lim _{x\\to {\\color{yellow}{-}} \\infty } f(x) = 0$.\n",
    "\n",
    "2. When we consider the limit of $f(x)$ as $x$ approaches positive infinity, we are looking at the behavior of the function as $x$ gets very large in the positive direction. For all positive values of $x$, $f(x) = \\max(0, x)$ will return $x$, because $x$ is greater than 0. As $x$ approaches positive infinity, $f(x)$ also approaches positive infinity.\n",
    "\n",
    "Therefore, the limit of $f(x)$ as $x$ approaches positive infinity is positive infinity.\n",
    "\n",
    "So, $\\displaystyle \\lim _{x\\to {\\color{yellow}{+}} \\infty } f(x) = \\infty$.\n",
    "\n",
    "\n",
    "### Derivative and Differentiable\n",
    "\n",
    "The function $f(x) = \\max(0, x)$ is differentiable for all real numbers except at $x = 0$.\n",
    "\n",
    "Here's why:\n",
    "\n",
    "1. For $x > 0$, $f(x) = x$, which is a linear function and is differentiable everywhere. The derivative is $f'(x) = 1$.\n",
    "\n",
    "2. For $x < 0$, $f(x) = 0$, which is a constant function and is also differentiable everywhere. The derivative is $f'(x) = 0$.\n",
    "\n",
    "However, at $x = 0$, the function is not differentiable. This is because the derivative from the left (which is 0) does not equal the derivative from the right (which is 1). \n",
    "\n",
    "So, the function $f(x) = \\max(0, x)$ is differentiable for all $x \\neq 0$."
   ]
  },
  {
   "cell_type": "markdown",
   "metadata": {},
   "source": [
    "### Question 2 (Binary Classification)\n",
    "\n",
    "The function $f(x) = \\frac{1}{1+e^{-x}}$ is known as the logistic function, which is often used in machine learning and statistics for binary classification problems.\n",
    "\n",
    "1. When we consider the limit of $f(x)$ as $x$ approaches negative infinity, we are looking at the behavior of the function as $x$ gets very large in the negative direction. As $x$ approaches negative infinity, $e^{-x}$ approaches positive infinity. Therefore, the denominator $1+e^{-x}$ also approaches positive infinity, and the whole fraction $\\frac{1}{1+e^{-x}}$ approaches 0.\n",
    "\n",
    "So, if you have a fraction where the numerator is 1 and the denominator is infinity (an incredibly large number), the fraction is essentially zero.\n",
    "\n",
    "So, $\\displaystyle \\lim _{x\\to {\\color{yellow}{-}} \\infty } f(x) = 0$.\n",
    "\n",
    "2. When we consider the limit of $f(x)$ as $x$ approaches positive infinity, we are looking at the behavior of the function as $x$ gets very large in the positive direction. As $x$ approaches positive infinity, $e^{-x}$ approaches 0. Therefore, the denominator $1+e^{-x}$ approaches 1, and the whole fraction $\\frac{1}{1+e^{-x}}$ approaches 1.\n",
    "\n",
    "So, $\\displaystyle \\lim _{x\\to {\\color{yellow}{+}} \\infty } f(x) = 1$.\n",
    "\n",
    "These limits reflect the fact that the logistic function has horizontal asymptotes at $y=0$ and $y=1$.\n",
    "\n",
    "### Derivative and Differentiable\n",
    "The function $f(x) = \\frac{1}{1+e^{-x}}$ is differentiable for all real numbers.\n",
    "\n",
    "Here's why:\n",
    "\n",
    "The function is composed of elementary functions (exponential, addition, division) which are all differentiable. The composition of differentiable functions is also differentiable.\n",
    "\n",
    "Furthermore, the denominator of the fraction, $1+e^{-x}$, is always greater than 0 for all real $x$, so we don't have any division by zero issues which could have caused problems with differentiability.\n",
    "\n",
    "So, the function $f(x) = \\frac{1}{1+e^{-x}}$ is differentiable for all real numbers $x$."
   ]
  }
 ],
 "metadata": {
  "language_info": {
   "name": "python"
  }
 },
 "nbformat": 4,
 "nbformat_minor": 2
}
