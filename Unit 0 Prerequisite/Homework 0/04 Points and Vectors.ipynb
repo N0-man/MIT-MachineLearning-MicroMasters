{
 "cells": [
  {
   "cell_type": "markdown",
   "metadata": {},
   "source": [
    "## Points and Vectors\n",
    "A list of n numbers can be thought of as a point or a vector in n-dimensional space. Going forward, we will think of n-dimensional vectors $\\begin{bmatrix} a_1\\\\ a_2\\\\ \\vdots \\\\ a_ n\\end{bmatrix}$ flexibly as points and as vectors."
   ]
  },
  {
   "cell_type": "markdown",
   "metadata": {},
   "source": [
    "## Dot Products (algebric)\n",
    "Notation: We will use regular letters as symbols for numbers, vectors, matrices, planes, hyperplanes, etc. You will need to distinguish what a letter represents from the context.\n",
    "\n",
    "Recall the dot product of a pair of vectors a and b:\n",
    "\n",
    "$$\n",
    "\\displaystyle a \\cdot b = a_1b_1+a_2b_2+\\cdots +a_ nb_ n\\qquad \\text {where }\\,  a= \\begin{bmatrix}  a_1\\\\ a_2 \\\\ \\vdots \\\\ a_ n \\end{bmatrix} \\text { and } b= \\begin{bmatrix}  b_1\\\\ b_2 \\\\ \\vdots \\\\ b_ n \\end{bmatrix}.\n",
    "$$"
   ]
  },
  {
   "cell_type": "code",
   "execution_count": 5,
   "metadata": {},
   "outputs": [
    {
     "name": "stdout",
     "output_type": "stream",
     "text": [
      "True\n"
     ]
    }
   ],
   "source": [
    "def dot(x, y):\n",
    "    return sum(x_i * y_i for x_i, y_i in zip(x, y))\n",
    "\n",
    "print(dot([1, 2, 3], [4, 5, 6]) == 32)"
   ]
  },
  {
   "cell_type": "markdown",
   "metadata": {},
   "source": [
    "## Norm\n",
    "The norm (or length) of a vector $\\mathbf{a} = [a_1, a_2, ..., a_n]$ in n-dimensional space is given by the square root of the sum of the squares of its components. This is also known as the Euclidean norm or the 2-norm, and it's represented as follows:\n",
    "\n",
    "$$\n",
    "||\\mathbf{a}|| = \\sqrt{a_1^2 + a_2^2 + ... + a_n^2}\n",
    "$$\n",
    "\n",
    "This formula comes from the **Pythagorean theorem** and can be thought of as a generalization of the theorem to n dimensions. **The norm gives the \"length\" of the vector from the origin to the point in n-dimensional space represented by the vector**."
   ]
  },
  {
   "cell_type": "code",
   "execution_count": 18,
   "metadata": {},
   "outputs": [
    {
     "name": "stdout",
     "output_type": "stream",
     "text": [
      "3.7416573867739413\n",
      "0.5\n",
      "0.25\n"
     ]
    }
   ],
   "source": [
    "from math import sqrt\n",
    "\n",
    "def norm(x):\n",
    "    return sqrt(sum([i**2 for i in x]))\n",
    "\n",
    "print(norm([1, 2, 3]))\n",
    "print(norm([0.4, 0.3]))\n",
    "print(norm([-0.15, 0.2]))"
   ]
  },
  {
   "cell_type": "markdown",
   "metadata": {},
   "source": [
    "## Dot Product using Norm (geometric definition)\n",
    "\n",
    "The dot product of two vectors a and b in n-dimensional space can also be represented using the norm (or length) of the vectors and the angle between them.\n",
    "\n",
    "If $\\mathbf{a}$ and $\\mathbf{b}$ are vectors, and $\\theta$ is the angle between them, then the dot product of $\\mathbf{a}$ and $\\mathbf{b}$ is given by:\n",
    "\n",
    "$$\n",
    "\\mathbf{a} \\cdot \\mathbf{b} = ||\\mathbf{a}|| \\, ||\\mathbf{b}|| \\, \\cos(\\theta)\n",
    "$$\n",
    "\n",
    "where $||\\mathbf{a}||$ and $||\\mathbf{b}||$ are the norms (or lengths) of the vectors $\\mathbf{a}$ and $\\mathbf{b}$, respectively, and $\\cos(\\theta)$ is the cosine of the angle between the vectors.\n",
    "\n",
    "This formula is known as the geometric definition of the dot product. It shows that the dot product of two vectors is equal to the product of their lengths and the cosine of the angle between them.\n",
    "\n",
    "The angle in radians between two vectors can be calculated using the dot product and the norms (magnitudes) of the vectors. The formula is:\n",
    "\n",
    "$$ \\theta = \\arccos\\left(\\frac{\\mathbf{a} \\cdot \\mathbf{b}}{||\\mathbf{a}|| , ||\\mathbf{b}||}\\right) $$\n",
    "\n",
    "where:\n",
    "\n",
    "- $\\theta$ is the angle between the vectors,\n",
    "- $\\mathbf{a}$ and $\\mathbf{b}$ are the vectors,\n",
    "- $\\mathbf{a} \\cdot \\mathbf{b}$ is the dot product of the vectors,\n",
    "- $||\\mathbf{a}||$ and $||\\mathbf{b}||$ are the norms (magnitudes) of the vectors,\n",
    "- $\\arccos$ is the inverse cosine function."
   ]
  },
  {
   "cell_type": "code",
   "execution_count": 19,
   "metadata": {},
   "outputs": [
    {
     "name": "stdout",
     "output_type": "stream",
     "text": [
      "0.2257261285527342\n",
      "1.5707963267948966\n"
     ]
    }
   ],
   "source": [
    "from math import acos, pi\n",
    "\n",
    "def angle(x, y):\n",
    "    return acos(dot(x, y) / (norm(x) * norm(y)))\n",
    "\n",
    "print(angle([1, 2, 3], [4, 5, 6]))\n",
    "print(angle([0.4, 0.3], [-0.15, 0.2]))"
   ]
  }
 ],
 "metadata": {
  "kernelspec": {
   "display_name": "Python 3",
   "language": "python",
   "name": "python3"
  },
  "language_info": {
   "codemirror_mode": {
    "name": "ipython",
    "version": 3
   },
   "file_extension": ".py",
   "mimetype": "text/x-python",
   "name": "python",
   "nbconvert_exporter": "python",
   "pygments_lexer": "ipython3",
   "version": "3.11.5"
  }
 },
 "nbformat": 4,
 "nbformat_minor": 2
}
