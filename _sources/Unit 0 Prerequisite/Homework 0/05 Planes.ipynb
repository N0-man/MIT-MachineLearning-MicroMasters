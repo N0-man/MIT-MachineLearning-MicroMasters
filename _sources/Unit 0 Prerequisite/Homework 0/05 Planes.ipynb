{
 "cells": [
  {
   "cell_type": "markdown",
   "metadata": {},
   "source": [
    "## 05 Planes\n",
    "\n",
    "A hyperplane in n-dimensional space is a subspace that is one dimension less than the space itself. It's an \"n-1\" dimensional subspace of an \"n\" dimensional space.\n",
    "\n",
    "Here are some examples to illustrate this concept:\n",
    "\n",
    "1. **In 2-dimensional space (a plane)**: A hyperplane is a 1-dimensional line. For example, in a 2D Cartesian coordinate system, the line defined by the equation `y = 2x + 1` is a hyperplane.\n",
    "\n",
    "2. **In 3-dimensional space**: A hyperplane is a 2-dimensional plane. For example, in a 3D Cartesian coordinate system, the plane defined by the equation `2x + 3y - z = 5` is a hyperplane.\n",
    "\n",
    "3. **In 4-dimensional space**: A hyperplane is a 3-dimensional space. It's harder to visualize, but it's defined by an equation like `x + 2y + 3z - 4w = 7`.\n",
    "\n",
    "In general, a hyperplane can be defined by a linear equation of the form:\n",
    "\n",
    "$$\n",
    "a_1x_1 + a_2x_2 + ... + a_nx_n = b\n",
    "$$\n",
    "\n",
    "where $a_1, a_2, ..., a_n$ are the coefficients of the hyperplane, $x_1, x_2, ..., x_n$ are the variables (or coordinates in the space), and $b$ is a constant. The coefficients $a_1, a_2, ..., a_n$ determine the orientation of the hyperplane in the space, and the constant $b$ determines its offset from the origin."
   ]
  },
  {
   "cell_type": "markdown",
   "metadata": {},
   "source": [
    "## Representations\n",
    "\n",
    "There are infinitely many alternative descriptions for the hyperplane P. \n",
    "\n",
    "The equation of a hyperplane is not unique. Any scalar multiple of the normal vector and the offset will describe the same hyperplane. \n",
    "\n",
    "If $\\mathbf{A}$ is the normal vector to the hyperplane and $A_0$ is the offset, then for any non-zero scalar $k$, the vector $k\\mathbf{A}$ and the offset $kA_0$ will describe the same hyperplane. \n",
    "\n",
    "So, for example, if $\\mathbf{A} = [1, 2, 3]$ and $A_0 = 4$ describe a hyperplane, then $2\\mathbf{A} = [2, 4, 6]$ and $2A_0 = 8$ will describe the same hyperplane. Similarly, $0.5\\mathbf{A} = [0.5, 1, 1.5]$ and $0.5A_0 = 2$ will also describe the same hyperplane.\n",
    "\n",
    "This is because scaling the normal vector and the offset by the same factor does not change the set of points $(x_1, x_2, ..., x_d)$ that satisfy the equation $\\mathbf{A} \\cdot \\mathbf{x} + A_0 = 0$."
   ]
  },
  {
   "cell_type": "markdown",
   "metadata": {},
   "source": [
    "## Orthogonality Check\n",
    "\n",
    "To check if a vector $\\mathbf{x}$ is orthogonal to a hyperplane P characterized by a normal vector $\\mathbf{A}$ and an offset $A_0$, you need to check the dot product between $\\mathbf{x}$ and $\\mathbf{A}$.\n",
    "\n",
    "The dot product of two vectors $\\mathbf{a} = [a_1, a_2, ..., a_n]$ and $\\mathbf{b} = [b_1, b_2, ..., b_n]$ is calculated as:\n",
    "\n",
    "$$\n",
    "\\mathbf{a} \\cdot \\mathbf{b} = a_1b_1 + a_2b_2 + ... + a_nb_n\n",
    "$$\n",
    "\n",
    "If the dot product is zero, then $\\mathbf{x}$ is orthogonal to the hyperplane. This is because the dot product of two vectors is zero if and only if the vectors are orthogonal.\n",
    "\n",
    "So, to check if $\\mathbf{x}$ is orthogonal to the hyperplane P, you would calculate:\n",
    "\n",
    "$$\n",
    "\\mathbf{A} \\cdot \\mathbf{x} = 0\n",
    "$$\n",
    "\n",
    "If this equation holds, then $\\mathbf{x}$ is orthogonal to the hyperplane P.\n"
   ]
  },
  {
   "cell_type": "code",
   "execution_count": null,
   "metadata": {},
   "outputs": [],
   "source": [
    "dot_product = np.dot(A, x)\n",
    "if dot_product == 0:\n",
    "    print(\"x is orthogonal to the hyperplane P\")\n",
    "else:\n",
    "    print(\"x is not orthogonal to the hyperplane P\")"
   ]
  },
  {
   "cell_type": "markdown",
   "metadata": {},
   "source": [
    "## Signed Perpendicular Distance to Plane\n",
    "\n",
    "The signed distance $d$ between a point or vector $\\mathbf{x} = [x_1, x_2, ..., x_n]$ and a hyperplane P characterized by a normal vector $\\mathbf{A} = [A_1, A_2, ..., A_n]$ and an offset $A_0$ can be calculated using the following formula:\n",
    "\n",
    "$$\n",
    "d = \\frac{\\mathbf{A} \\cdot \\mathbf{x} + A_0}{\\|\\mathbf{A}\\|}\n",
    "$$\n",
    "\n",
    "Here, $\\mathbf{A} \\cdot \\mathbf{x}$ is the dot product of $\\mathbf{A}$ and $\\mathbf{x}$, and $\\|\\mathbf{A}\\|$ is the Euclidean norm (or length) of $\\mathbf{A}$, calculated as $\\sqrt{A_1^2 + A_2^2 + ... + A_n^2}$.\n",
    "\n",
    "The sign of the distance indicates which side of the hyperplane the point $\\mathbf{x}$ is on. If the distance is positive, $\\mathbf{x}$ is on the side of the hyperplane in the direction of the normal vector $\\mathbf{A}$. If the distance is negative, $\\mathbf{x}$ is on the opposite side. If the distance is zero, $\\mathbf{x}$ is on the hyperplane."
   ]
  },
  {
   "cell_type": "markdown",
   "metadata": {},
   "source": [
    "## Orthogonal projection onto plane\n",
    "\n",
    "The orthogonal projection of a point $\\mathbf{v}$ onto a hyperplane P characterized by a normal vector $\\mathbf{A}$ and an offset $A_0$ is given by the following formula:\n",
    "\n",
    "$$\n",
    "\\mathbf{p} = \\mathbf{v} - \\frac{\\mathbf{A} \\cdot \\mathbf{v} + A_0}{\\|\\mathbf{A}\\|^2}\\mathbf{A}\n",
    "$$\n",
    "\n",
    "Here, $\\mathbf{A} \\cdot \\mathbf{v}$ is the dot product of $\\mathbf{A}$ and $\\mathbf{v}$, and $\\|\\mathbf{A}\\|^2$ is the square of the Euclidean norm (or length) of $\\mathbf{A}$, calculated as $A_1^2 + A_2^2 + ... + A_n^2$.\n",
    "\n",
    "The vector $\\mathbf{p}$ is the orthogonal projection of $\\mathbf{v}$ onto the hyperplane P. It is the point on the hyperplane that is closest to $\\mathbf{v}$."
   ]
  },
  {
   "cell_type": "markdown",
   "metadata": {},
   "source": [
    "### Question (signed perpendicular distance)\n",
    "\n",
    "Let P be the hyperplane consisting of the set of points x = [x1, x2] for which 3x1 + x2 -1 = 0. What is the signed perpendicular distance of point a = [-1, -1] from P?\n",
    "\n",
    "**Explanation**\n",
    "\n",
    "The signed perpendicular distance `d` from a point `a` to a hyperplane `P` characterized by a normal vector `A` and an offset `A0` is given by the formula:\n",
    "\n",
    "\n",
    "$$ d = \\frac{(A.a + A_0)}{ ||A||}$$\n",
    "\n",
    "Here, `A.a` is the dot product of `A` and `a`, and `||A||` is the Euclidean norm (or length) of `A`.\n",
    "\n",
    "In this case, the hyperplane `P` is defined by the equation `3x1 + x2 - 1 = 0`, so the normal vector `A` is `[3, 1]` and the offset `A0` is `-1`. The point `a` is `[-1, -2]`.\n",
    "\n",
    "The dot product `A.a` is $3*(-1) + 1*(-1) = -4$.\n",
    "\n",
    "The Euclidean norm `||A||` is $\\sqrt{(3^2 + 1^2)} = \\sqrt{(10)}$.\n",
    "\n",
    "So, the signed perpendicular distance `d` from `a` to `P` is $(-4 + (-1)) / \\sqrt{10} = -5 / \\sqrt{10}$.\n",
    "\n",
    "This means that the point `a` is approximately 1.26491 units away from the hyperplane `P`, and it's on the side of the hyperplane opposite to the direction of the normal vector `A`.\n",
    "\n",
    "Here is the Python code to calculate this:"
   ]
  },
  {
   "cell_type": "code",
   "execution_count": 24,
   "metadata": {},
   "outputs": [
    {
     "name": "stdout",
     "output_type": "stream",
     "text": [
      "A.a + A0 :  -5\n",
      "||A|| : 3.1622776601683795\n",
      "-1.5811388300841895\n"
     ]
    }
   ],
   "source": [
    "import numpy as np\n",
    "\n",
    "# Plane P is 3x1 + x2 -1 = 0\n",
    "A = np.array([3, 1])\n",
    "A0 = -1\n",
    "# Point a = (-1, -1)\n",
    "a = np.array([-1, -1])\n",
    "\n",
    "d = (np.dot(A, a) + A0) / np.linalg.norm(A)\n",
    "print(f'A.a + A0 :  {np.dot(A, a) + A0}')\n",
    "print(f'||A|| : {np.linalg.norm(A)}') \n",
    "print(d) "
   ]
  },
  {
   "cell_type": "markdown",
   "metadata": {},
   "source": [
    "### Question (Distance from Origin)\n",
    "\n",
    "For the above question, what is the signed perpendicular distance of the `origin` from `P`?\n",
    "\n",
    "Hint: The point `a` is the origin `[0, 0]`"
   ]
  },
  {
   "cell_type": "code",
   "execution_count": 23,
   "metadata": {},
   "outputs": [
    {
     "name": "stdout",
     "output_type": "stream",
     "text": [
      "A.a + A0 :  -1\n",
      "||A|| : 3.1622776601683795\n",
      "-0.31622776601683794\n"
     ]
    }
   ],
   "source": [
    "import numpy as np\n",
    "\n",
    "# Plane P is 3x1 + x2 -1 = 0\n",
    "A = np.array([3, 1])\n",
    "A0 = -1\n",
    "# Origin point a = [0, 0]\n",
    "a = np.array([0, 0])\n",
    "\n",
    "d = (np.dot(A, a) + A0) / np.linalg.norm(A)\n",
    "print(f'A.a + A0 :  {np.dot(A, a) + A0}')\n",
    "print(f'||A|| : {np.linalg.norm(A)}') \n",
    "print(d)"
   ]
  },
  {
   "cell_type": "markdown",
   "metadata": {},
   "source": [
    "### Question (Orthogonal Projection)\n",
    "\n",
    "The orthogonal projection `p` of a point `a` onto a hyperplane `P` characterized by a normal vector `A` and an offset `A0` is given by the formula:\n",
    "\n",
    "$$\n",
    "\\mathbf{p} = \\mathbf{a} - \\frac{\\mathbf{A} \\cdot \\mathbf{a} + A_0}{\\|\\mathbf{A}\\|^2}\\mathbf{A}\n",
    "$$\n",
    "\n",
    "\n",
    "Here, `A.a` is the dot product of `A` and `a`, and `||A||^2` is the square of the Euclidean norm (or length) of `A`.\n",
    "\n",
    "In this case, the hyperplane `P` is defined by the equation `3x1 + x2 - 1 = 0`, so the normal vector `A` is `[3, 1]` and the offset `A0` is `-1`. The point `a` is `[-1, -2]`.\n",
    "\n",
    "The dot product `A.a` is $3*(-1) + 1*(-1) = -4$.\n",
    "\n",
    "The Euclidean norm `||A||` is $(\\sqrt{(3^2 + 1^2)})^2 = (\\sqrt{(10)})^2 = 10$.\n",
    "\n",
    "So, the orthogonal projection `p` of `a` onto `P` is \n",
    "\n",
    "$$\n",
    "\\begin{align} \n",
    "= \\mathbf{a} - \\frac{\\mathbf{A} \\cdot \\mathbf{a} + A_0}{\\|\\mathbf{A}\\|^2}\\mathbf{A} \\\\\n",
    "= [-1, -1] - ((-4 + (-1)) / 10) * [3, 1] \\\\\n",
    "= [-1, -1] - (-5/10) * [3, 1] \\\\\n",
    "= [0.5, -0.5] \\\\\n",
    "\\end{align}\n",
    "$$\n",
    "\n",
    "This means that the orthogonal projection of `a` onto `P` is the point `[0.5, -0.5]`."
   ]
  },
  {
   "cell_type": "code",
   "execution_count": 22,
   "metadata": {},
   "outputs": [
    {
     "name": "stdout",
     "output_type": "stream",
     "text": [
      "[ 0.5 -0.5]\n"
     ]
    }
   ],
   "source": [
    "import numpy as np\n",
    "\n",
    "A = np.array([3, 1])\n",
    "A0 = -1\n",
    "a = np.array([-1, -1])\n",
    "\n",
    "p = a - ((np.dot(A, a) + A0) / np.linalg.norm(A)**2) * A\n",
    "print(p)"
   ]
  },
  {
   "cell_type": "markdown",
   "metadata": {},
   "source": [
    "### Question\n",
    "\n",
    "**Consider a hyperplane in a d-dimensional space. If we project a point onto the plane, can we recover the original point from this projection?**\n",
    "\n",
    "No, we cannot recover the original point from its projection onto a hyperplane in a d-dimensional space. \n",
    "\n",
    "The reason is that the projection operation is a lossy operation. When you project a point onto a hyperplane, you are essentially collapsing the point's position along the direction perpendicular to the hyperplane down to the closest point on the hyperplane. This means that the information about how far the point was from the hyperplane along that direction is lost in the projection.\n",
    "\n",
    "Therefore, given only the projected point, there is no way to determine exactly where the original point was. It could have been anywhere along the line perpendicular to the hyperplane that passes through the projected point."
   ]
  }
 ],
 "metadata": {
  "kernelspec": {
   "display_name": "Python 3",
   "language": "python",
   "name": "python3"
  },
  "language_info": {
   "codemirror_mode": {
    "name": "ipython",
    "version": 3
   },
   "file_extension": ".py",
   "mimetype": "text/x-python",
   "name": "python",
   "nbconvert_exporter": "python",
   "pygments_lexer": "ipython3",
   "version": "3.11.5"
  }
 },
 "nbformat": 4,
 "nbformat_minor": 2
}
