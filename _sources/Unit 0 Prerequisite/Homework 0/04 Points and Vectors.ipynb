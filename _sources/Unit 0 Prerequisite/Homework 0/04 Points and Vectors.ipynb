{
 "cells": [
  {
   "cell_type": "markdown",
   "metadata": {},
   "source": [
    "## 04 Points and Vectors\n",
    "A list of n numbers can be thought of as a point or a vector in n-dimensional space. Going forward, we will think of n-dimensional vectors $\\begin{bmatrix} a_1\\\\ a_2\\\\ \\vdots \\\\ a_ n\\end{bmatrix}$ flexibly as points and as vectors."
   ]
  },
  {
   "cell_type": "markdown",
   "metadata": {},
   "source": [
    "## Dot Products (algebric)\n",
    "Notation: We will use regular letters as symbols for numbers, vectors, matrices, planes, hyperplanes, etc. You will need to distinguish what a letter represents from the context.\n",
    "\n",
    "Recall the dot product of a pair of vectors a and b:\n",
    "\n",
    "$$\n",
    "\\displaystyle a \\cdot b = a_1b_1+a_2b_2+\\cdots +a_ nb_ n\\qquad \\text {where }\\,  a= \\begin{bmatrix}  a_1\\\\ a_2 \\\\ \\vdots \\\\ a_ n \\end{bmatrix} \\text { and } b= \\begin{bmatrix}  b_1\\\\ b_2 \\\\ \\vdots \\\\ b_ n \\end{bmatrix}.\n",
    "$$"
   ]
  },
  {
   "cell_type": "code",
   "execution_count": 5,
   "metadata": {},
   "outputs": [
    {
     "name": "stdout",
     "output_type": "stream",
     "text": [
      "True\n"
     ]
    }
   ],
   "source": [
    "def dot(x, y):\n",
    "    return sum(x_i * y_i for x_i, y_i in zip(x, y))\n",
    "\n",
    "print(dot([1, 2, 3], [4, 5, 6]) == 32)"
   ]
  },
  {
   "cell_type": "markdown",
   "metadata": {},
   "source": [
    "## Norm\n",
    "The norm (or length) of a vector $\\mathbf{a} = [a_1, a_2, ..., a_n]$ in n-dimensional space is given by the square root of the sum of the squares of its components. This is also known as the Euclidean norm or the 2-norm, and it's represented as follows:\n",
    "\n",
    "$$\n",
    "||\\mathbf{a}|| = \\sqrt{a_1^2 + a_2^2 + ... + a_n^2}\n",
    "$$\n",
    "\n",
    "This formula comes from the **Pythagorean theorem** and can be thought of as a generalization of the theorem to n dimensions. **The norm gives the \"length\" of the vector from the origin to the point in n-dimensional space represented by the vector**.\n",
    "\n",
    "Here's how it works with an example:\n",
    "\n",
    "Let's say we have a 3-dimensional vector $\\mathbf{a} = [3, 4, 5]$. The norm of this vector would be calculated as follows:\n",
    "\n",
    "$$ ||\\mathbf{a}|| = \\sqrt{3^2 + 4^2 + 5^2} = \\sqrt{9 + 16 + 25} = \\sqrt{50} \\approx 7.071 $$\n",
    "\n",
    "So, the length of the vector $\\mathbf{a} = [3, 4, 5]$ is approximately 7.071.\n",
    "\n",
    "This formula is a generalization of the Pythagorean theorem to n dimensions. In 2 dimensions, it gives the length of the hypotenuse of a right triangle. In 3 dimensions, it gives the length of the line segment from the origin to a point in space. In n dimensions, it gives the \"distance\" from the origin to a point in n-dimensional space."
   ]
  },
  {
   "cell_type": "code",
   "execution_count": 18,
   "metadata": {},
   "outputs": [
    {
     "name": "stdout",
     "output_type": "stream",
     "text": [
      "3.7416573867739413\n",
      "0.5\n",
      "0.25\n"
     ]
    }
   ],
   "source": [
    "from math import sqrt\n",
    "\n",
    "def norm(x):\n",
    "    return sqrt(sum([i**2 for i in x]))\n",
    "\n",
    "print(norm([1, 2, 3]))\n",
    "print(norm([0.4, 0.3]))\n",
    "print(norm([-0.15, 0.2]))"
   ]
  },
  {
   "cell_type": "markdown",
   "metadata": {},
   "source": [
    "## Dot Product using Norm (geometric definition)\n",
    "\n",
    "The dot product of two vectors a and b in n-dimensional space can also be represented using the norm (or length) of the vectors and the angle between them.\n",
    "\n",
    "If $\\mathbf{a}$ and $\\mathbf{b}$ are vectors, and $\\theta$ is the angle between them, then the dot product of $\\mathbf{a}$ and $\\mathbf{b}$ is given by:\n",
    "\n",
    "$$\n",
    "\\mathbf{a} \\cdot \\mathbf{b} = ||\\mathbf{a}|| \\, ||\\mathbf{b}|| \\, \\cos(\\theta)\n",
    "$$\n",
    "\n",
    "where $||\\mathbf{a}||$ and $||\\mathbf{b}||$ are the norms (or lengths) of the vectors $\\mathbf{a}$ and $\\mathbf{b}$, respectively, and $\\cos(\\theta)$ is the cosine of the angle between the vectors.\n",
    "\n",
    "This formula is known as the geometric definition of the dot product. It shows that the dot product of two vectors is equal to the product of their lengths and the cosine of the angle between them.\n",
    "\n",
    "The angle in radians between two vectors can be calculated using the dot product and the norms (magnitudes) of the vectors. The formula is:\n",
    "\n",
    "$$ \\theta = \\arccos\\left(\\frac{\\mathbf{a} \\cdot \\mathbf{b}}{||\\mathbf{a}|| , ||\\mathbf{b}||}\\right) $$\n",
    "\n",
    "where:\n",
    "\n",
    "- $\\theta$ is the angle between the vectors,\n",
    "- $\\mathbf{a}$ and $\\mathbf{b}$ are the vectors,\n",
    "- $\\mathbf{a} \\cdot \\mathbf{b}$ is the dot product of the vectors,\n",
    "- $||\\mathbf{a}||$ and $||\\mathbf{b}||$ are the norms (magnitudes) of the vectors,\n",
    "- $\\arccos$ is the inverse cosine function."
   ]
  },
  {
   "cell_type": "code",
   "execution_count": 20,
   "metadata": {},
   "outputs": [
    {
     "name": "stdout",
     "output_type": "stream",
     "text": [
      "0.2257261285527342\n",
      "1.5707963267948966\n"
     ]
    }
   ],
   "source": [
    "from math import acos, pi\n",
    "\n",
    "def angle(x, y):\n",
    "    return acos(dot(x, y) / (norm(x) * norm(y)))\n",
    "\n",
    "print(angle([1, 2, 3], [4, 5, 6]))\n",
    "print(angle([0.4, 0.3], [-0.15, 0.2]))"
   ]
  },
  {
   "cell_type": "markdown",
   "metadata": {},
   "source": [
    "## Dot product and orthogonal (or perpendicular) vectors\n",
    "\n",
    "Two vectors are orthogonal (or perpendicular or $\\pi /2$) to each other if their dot product is zero. \n",
    "\n",
    "In the case of 3-dimensional vectors $\\mathbf{x} = [x_1, x_2, x_3]$ and $\\mathbf{y} = [y_1, y_2, y_3]$, they are orthogonal if:\n",
    "\n",
    "$$\n",
    "\\mathbf{x} \\cdot \\mathbf{y} = x_1y_1 + x_2y_2 + x_3y_3 = 0\n",
    "$$\n",
    "\n",
    "This is because the dot product of two vectors is equal to the product of their magnitudes and the cosine of the angle between them. If the vectors are orthogonal, the angle between them is 90 degrees, and the cosine of 90 degrees is zero, making the entire dot product zero.\n",
    "\n",
    "e.g. Two vectors are orthogonal (or perpendicular) to each other if their dot product is zero. \n",
    "\n",
    "In the case of 3-dimensional vectors $\\mathbf{x} = [a_1, a_2, a_3]$ and $\\mathbf{y} = [a_1, -a_2, a_3]$, they are orthogonal if:\n",
    "\n",
    "$$\n",
    "\\mathbf{x} \\cdot \\mathbf{y} = a_1*a_1 + a_2*(-a_2) + a_3*a_3 = 0\n",
    "$$\n",
    "\n",
    "Simplifying, we get:\n",
    "\n",
    "$$\n",
    "a_1^2 - a_2^2 + a_3^2 = 0\n",
    "$$\n",
    "\n",
    "So, the vectors $\\mathbf{x}$ and $\\mathbf{y}$ are orthogonal when $a_1^2 - a_2^2 + a_3^2 = 0$."
   ]
  },
  {
   "cell_type": "markdown",
   "metadata": {},
   "source": [
    "## Unit Vector\n",
    "A unit vector is a vector of length 1. \n",
    "\n",
    "If you have a vector $\\mathbf{x} = [x_1, x_2, ..., x_n]$, you can calculate its unit vector $\\hat{\\mathbf{x}}$ by dividing each component of the vector by its norm (or length). \n",
    "\n",
    "The formula to calculate the unit vector is:\n",
    "\n",
    "$$\n",
    "\\hat{\\mathbf{x}} = \\frac{\\mathbf{x}}{||\\mathbf{x}||}\n",
    "$$\n",
    "\n",
    "where $||\\mathbf{x}||$ is the norm of the vector $\\mathbf{x}$, calculated as $||\\mathbf{x}|| = \\sqrt{x_1^2 + x_2^2 + ... + x_n^2}$.\n",
    "\n",
    "So, if you have a vector $\\mathbf{x} = [3, 4]$, its norm is $||\\mathbf{x}|| = \\sqrt{3^2 + 4^2} = 5$. The unit vector would then be $\\hat{\\mathbf{x}} = [3/5, 4/5] = [0.6, 0.8]$. \n",
    "\n",
    "**The unit vector has the same direction as the original vector, but its length is 1.**"
   ]
  },
  {
   "cell_type": "markdown",
   "metadata": {},
   "source": [
    "## Projection\n",
    "\n",
    "In linear algebra, the projection of one vector onto another is a vector that is the \"shadow\" of one vector (the vector being projected) along another vector (the vector onto which the first vector is being projected).\n",
    "\n",
    "Let's say we have two vectors, $\\mathbf{a}$ and $\\mathbf{b}$. The projection of $\\mathbf{a}$ onto $\\mathbf{b}$ is a vector that lies on the line defined by $\\mathbf{b}$ and is closest to $\\mathbf{a}$.\n",
    "\n",
    "The formula to calculate the projection of $\\mathbf{a}$ onto $\\mathbf{b}$ is:\n",
    "\n",
    "$$\n",
    "\\text{proj}_{\\mathbf{b}}\\mathbf{a} = \\frac{\\mathbf{a} \\cdot \\mathbf{b}}{||\\mathbf{b}||^2} \\mathbf{b}\n",
    "$$\n",
    "\n",
    "where:\n",
    "- $\\mathbf{a} \\cdot \\mathbf{b}$ is the dot product of $\\mathbf{a}$ and $\\mathbf{b}$,\n",
    "- $||\\mathbf{b}||$ is the norm (or length) of $\\mathbf{b}$,\n",
    "- $\\mathbf{b}$ is the vector onto which $\\mathbf{a}$ is being projected.\n",
    "\n",
    "This formula gives us a vector that is in the direction of $\\mathbf{b}$ and has length equal to the component of $\\mathbf{a}$ in the direction of $\\mathbf{b}$."
   ]
  },
  {
   "cell_type": "markdown",
   "metadata": {},
   "source": [
    "## Signed magnitude of projection\n",
    "\n",
    "The signed magnitude of the projection of one vector onto another, often referred to as the scalar projection, is a scalar value that represents how much of one vector goes in the direction of another vector.\n",
    "\n",
    "Let's say we have two vectors, $\\mathbf{a}$ and $\\mathbf{b}$. The signed magnitude $c$ of the projection of $\\mathbf{a}$ onto $\\mathbf{b}$ is given by:\n",
    "\n",
    "$$\n",
    "c = \\frac{\\mathbf{a} \\cdot \\mathbf{b}}{||\\mathbf{b}||}\n",
    "$$\n",
    "\n",
    "where:\n",
    "- $\\mathbf{a} \\cdot \\mathbf{b}$ is the dot product of $\\mathbf{a}$ and $\\mathbf{b}$,\n",
    "- $||\\mathbf{b}||$ is the norm (or length) of $\\mathbf{b}$.\n",
    "\n",
    "This formula gives us a scalar value that is positive if the angle between $\\mathbf{a}$ and $\\mathbf{b}$ is less than 90 degrees (i.e., $\\mathbf{a}$ is in the same general direction as $\\mathbf{b}$), negative if the angle is greater than 90 degrees (i.e., $\\mathbf{a}$ is in the opposite general direction), and zero if the vectors are orthogonal (i.e., at right angles to each other).\n",
    "\n",
    "In the case of 3-dimensional vectors $\\mathbf{a} = [a_1, a_2, a_3]$ and $\\mathbf{b} = [a_1, -a_2, a_3]$\n",
    "\n",
    "$$\n",
    "(a_1^2 - a_2^2 + a_3^2)/\\sqrt{a_1^2 + a_2^2 + a_3^2}\n",
    "$$"
   ]
  }
 ],
 "metadata": {
  "kernelspec": {
   "display_name": "Python 3",
   "language": "python",
   "name": "python3"
  },
  "language_info": {
   "codemirror_mode": {
    "name": "ipython",
    "version": 3
   },
   "file_extension": ".py",
   "mimetype": "text/x-python",
   "name": "python",
   "nbconvert_exporter": "python",
   "pygments_lexer": "ipython3",
   "version": "3.11.5"
  }
 },
 "nbformat": 4,
 "nbformat_minor": 2
}
