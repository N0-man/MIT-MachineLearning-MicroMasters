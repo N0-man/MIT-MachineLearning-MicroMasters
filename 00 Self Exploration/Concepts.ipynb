{
 "cells": [
  {
   "cell_type": "markdown",
   "metadata": {},
   "source": [
    "## Machine Learning concepts\n",
    "\n",
    "### Tasks\n",
    "- Linear Regression\n",
    "- Linear Classification\n",
    "- K-Means\n",
    "\n",
    "### Models\n",
    "- Non-linear features\n",
    "- Feature templates\n",
    "- Neural Networks\n",
    "\n",
    "### Optimization Algorithms\n",
    "- Gradient descent\n",
    "- Stochastic Gradient descent\n",
    "- Backproposation\n",
    "\n",
    "### Considerations\n",
    "- Generalization vs Regularization\n",
    "- Best practices"
   ]
  }
 ],
 "metadata": {
  "language_info": {
   "name": "python"
  }
 },
 "nbformat": 4,
 "nbformat_minor": 2
}
